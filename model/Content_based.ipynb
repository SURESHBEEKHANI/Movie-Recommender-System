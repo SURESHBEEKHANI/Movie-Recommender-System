{
  "nbformat": 4,
  "nbformat_minor": 0,
  "metadata": {
    "colab": {
      "private_outputs": true,
      "provenance": [],
      "toc_visible": true,
      "include_colab_link": true
    },
    "kernelspec": {
      "name": "python3",
      "display_name": "Python 3"
    },
    "language_info": {
      "name": "python"
    }
  },
  "cells": [
    {
      "cell_type": "markdown",
      "metadata": {
        "id": "view-in-github",
        "colab_type": "text"
      },
      "source": [
        "<a href=\"https://colab.research.google.com/github/SURESHBEEKHANI/Recommender-system/blob/main/Movie_Recommender_System_.ipynb\" target=\"_parent\"><img src=\"https://colab.research.google.com/assets/colab-badge.svg\" alt=\"Open In Colab\"/></a>"
      ]
    },
    {
      "cell_type": "markdown",
      "source": [
        "## Movie Recommender System"
      ],
      "metadata": {
        "id": "rcMPRzr52Dmc"
      }
    },
    {
      "cell_type": "code",
      "execution_count": null,
      "metadata": {
        "id": "Izb3B73d1kCR"
      },
      "outputs": [],
      "source": [
        "import pandas as pd  # Import the pandas library and call it 'pd' for handling data tables\n",
        "import numpy as np  # Import the numpy library and call it 'np' for handling numerical values\n",
        "import ast  # Import the ast library for working with abstract syntax trees\n"
      ]
    },
    {
      "cell_type": "code",
      "source": [
        "# Load the data set Of Movies\n",
        "movies = pd.read_csv('/content/tmdb_5000_movies.csv')"
      ],
      "metadata": {
        "id": "-rBV9Y4tE9s1"
      },
      "execution_count": null,
      "outputs": []
    },
    {
      "cell_type": "code",
      "source": [
        "# Load the Create data set pf moves\n",
        "credits = pd.read_csv('tmdb_5000_credits.csv')"
      ],
      "metadata": {
        "id": "lDNLDeaKAStP"
      },
      "execution_count": null,
      "outputs": []
    },
    {
      "cell_type": "code",
      "source": [
        "# The movies data set has 4803 rows and 20 columns.\n",
        "movies.shape"
      ],
      "metadata": {
        "id": "e-1BJ8V3sMPF"
      },
      "execution_count": null,
      "outputs": []
    },
    {
      "cell_type": "code",
      "source": [
        "# Show the first row of the data set\n",
        "movies.head(1)"
      ],
      "metadata": {
        "id": "8M7GiLEMGx2P"
      },
      "execution_count": null,
      "outputs": []
    },
    {
      "cell_type": "code",
      "source": [
        "# Show the dimensions of the data set\n",
        "credits.shape"
      ],
      "metadata": {
        "id": "XRo3DqENsWJy"
      },
      "execution_count": null,
      "outputs": []
    },
    {
      "cell_type": "code",
      "source": [
        "#Show the Fisrt Row of dataset\n",
        "credits.head(1)"
      ],
      "metadata": {
        "id": "NFhGZ-huGKpy"
      },
      "execution_count": null,
      "outputs": []
    },
    {
      "cell_type": "code",
      "source": [
        "# Merge the dataset credits with the movies dataset based on the 'title' column\n",
        "movies = movies.merge(credits, on='title')"
      ],
      "metadata": {
        "id": "Qe8adQ-_ushW"
      },
      "execution_count": null,
      "outputs": []
    },
    {
      "cell_type": "code",
      "source": [
        "# After merge Shape of the Movie dataset\n",
        "movies.shape\n"
      ],
      "metadata": {
        "id": "pK8k36qCvoQt"
      },
      "execution_count": null,
      "outputs": []
    },
    {
      "cell_type": "code",
      "source": [
        "movies.info()"
      ],
      "metadata": {
        "id": "hfJqcUpJ5ac0"
      },
      "execution_count": null,
      "outputs": []
    },
    {
      "cell_type": "code",
      "source": [
        "movies.info()"
      ],
      "metadata": {
        "id": "Zppuxiwn2v8v"
      },
      "execution_count": null,
      "outputs": []
    },
    {
      "cell_type": "code",
      "source": [
        "# Remove unnecessary columns from the 'movies' DataFrame\n",
        "# We want to keep only these columns: 'movie_id', 'title', 'overview', 'genres', 'keywords', 'cast', 'crew'\n",
        "movies = movies[['movie_id', 'title', 'overview', 'genres', 'keywords', 'cast', 'crew']]\n"
      ],
      "metadata": {
        "id": "en274Jwv657O"
      },
      "execution_count": null,
      "outputs": []
    },
    {
      "cell_type": "code",
      "source": [],
      "metadata": {
        "id": "rz5T4tSepCfB"
      },
      "execution_count": null,
      "outputs": []
    },
    {
      "cell_type": "code",
      "source": [
        "# Remove unnecessary columns from the 'movies' DataFrame\n",
        "# We want to keep only these columns: 'movie_id', 'title', 'overview', 'genres', 'keywords', 'cast', 'crew'\n",
        "movies = movies[['movie_id', 'title', 'overview', 'genres', 'keywords', 'cast', 'crew']]\n"
      ],
      "metadata": {
        "id": "83iUd2PLpCam"
      },
      "execution_count": null,
      "outputs": []
    },
    {
      "cell_type": "code",
      "source": [
        "movies.head()"
      ],
      "metadata": {
        "id": "Eby6nhr86OmU"
      },
      "execution_count": null,
      "outputs": []
    },
    {
      "cell_type": "code",
      "source": [
        "#Check the missing  value\n",
        "movies.isnull().sum()"
      ],
      "metadata": {
        "id": "5FHE8FPt8MSU"
      },
      "execution_count": null,
      "outputs": []
    },
    {
      "cell_type": "code",
      "source": [
        "## remved the Null value from dataset\n",
        "movies.dropna(inplace=True)"
      ],
      "metadata": {
        "id": "dnSGxgZN8PUn"
      },
      "execution_count": null,
      "outputs": []
    },
    {
      "cell_type": "code",
      "source": [
        "#Check the Duplicate  value from data set\n",
        "movies.duplicated().sum()"
      ],
      "metadata": {
        "id": "QhpQqX238jiN"
      },
      "execution_count": null,
      "outputs": []
    },
    {
      "cell_type": "code",
      "source": [
        "#Check the value of Movies column  genres\n",
        "movies.iloc[0].genres"
      ],
      "metadata": {
        "id": "heRJDaGf8_Ne"
      },
      "execution_count": null,
      "outputs": []
    },
    {
      "cell_type": "code",
      "source": [
        "def convert(obj):\n",
        "    \"\"\"\n",
        "    This function takes a string representation of a list of dictionaries,\n",
        "    converts it into an actual list of dictionaries, and then extracts the 'name'\n",
        "    field from each dictionary to create a list of names.\n",
        "\n",
        "    Args:\n",
        "        obj (str): A string representation of a list of dictionaries.\n",
        "\n",
        "    Returns:\n",
        "        list: A list containing the 'name' values from each dictionary.\n",
        "    \"\"\"\n",
        "    List = []  # Create an empty list to store the names.\n",
        "\n",
        "    # Convert the string representation of the list into an actual list of dictionaries.\n",
        "    for i in ast.literal_eval(obj):\n",
        "        # Extract the 'name' field from each dictionary and add it to the List.\n",
        "        List.append(i['name'])\n",
        "\n",
        "    # Return the list of names.\n",
        "    return List\n"
      ],
      "metadata": {
        "id": "i2JmWr7r_CYn"
      },
      "execution_count": null,
      "outputs": []
    },
    {
      "cell_type": "code",
      "source": [
        "# Apply the convert function to the 'genres' column\n",
        "# For each row in the 'genres' column, it converts the string into a list of names\n",
        "movies['genres'] = movies['genres'].apply(convert)\n",
        "\n",
        "# Apply the convert function to the 'keywords' column\n",
        "# For each row in the 'keywords' column, it converts the string into a list of names\n",
        "movies['keywords'] = movies['keywords'].apply(convert)\n"
      ],
      "metadata": {
        "id": "DWoEijYR_0Nm"
      },
      "execution_count": null,
      "outputs": []
    },
    {
      "cell_type": "code",
      "source": [
        "def convert3(obj):\n",
        "    \"\"\"\n",
        "    This function takes a string representation of a list of dictionaries,\n",
        "    converts it into an actual list of dictionaries, and then extracts the 'name'\n",
        "    field from each dictionary to create a list of names. It only adds up to three names.\n",
        "\n",
        "    Args:\n",
        "        obj (str): A string representation of a list of dictionaries.\n",
        "\n",
        "    Returns:\n",
        "        list: A list containing up to three 'name' values from each dictionary.\n",
        "    \"\"\"\n",
        "    counter = 0  # Initialize a counter to keep track of the number of names added.\n",
        "    List = []  # Create an empty list to store the names.\n",
        "\n",
        "    # Convert the string representation of the list into an actual list of dictionaries.\n",
        "    for i in ast.literal_eval(obj):\n",
        "        # Extract the 'name' field from each dictionary and add it to the List.\n",
        "        if counter != 3:  # Check if the counter has reached three.\n",
        "            List.append(i['name'])  # Add the 'name' to the list.\n",
        "            counter += 1  # Increment the counter.\n",
        "        else:\n",
        "            break  # If three names have been added, exit the loop.\n",
        "\n",
        "    # Return the list of names.\n",
        "    return List"
      ],
      "metadata": {
        "id": "Bh7hiloiKozl"
      },
      "execution_count": null,
      "outputs": []
    },
    {
      "cell_type": "code",
      "source": [
        "#Use Contert3 Function and Every movie  first 3 acter name add\n",
        "movies['cast']= movies['cast'].apply(convert3)\n",
        "movies.head()"
      ],
      "metadata": {
        "id": "EkrZg-s4LxfV"
      },
      "execution_count": null,
      "outputs": []
    },
    {
      "cell_type": "code",
      "source": [
        "\n",
        "def fetch_director(obj):\n",
        "    \"\"\"\n",
        "    This function takes a string representation of a list of dictionaries,\n",
        "    converts it into an actual list of dictionaries, and then extracts the 'name'\n",
        "    of the person whose job is 'Director'.\n",
        "\n",
        "    Args:\n",
        "        obj (str): A string representation of a list of dictionaries.\n",
        "\n",
        "    Returns:\n",
        "        list: A list containing the name of the 'Director'. If no director is found, the list will be empty.\n",
        "    \"\"\"\n",
        "    List = []  # Create an empty list to store the director's name.\n",
        "\n",
        "    # Convert the string representation of the list into an actual list of dictionaries.\n",
        "    for i in ast.literal_eval(obj):\n",
        "        # Check if the 'job' field is 'Director'.\n",
        "        if i['job'] == 'Director':\n",
        "            List.append(i['name'])  # Add the director's name to the list.\n",
        "            break  # Stop the loop after finding the director.\n",
        "\n",
        "    # Return the list containing the director's name.\n",
        "    return List"
      ],
      "metadata": {
        "id": "_OjJXPVZOMKL"
      },
      "execution_count": null,
      "outputs": []
    },
    {
      "cell_type": "code",
      "source": [
        "movies['crew'] = movies['crew'].apply(fetch_director)\n",
        "movies.head()"
      ],
      "metadata": {
        "id": "C_uBGnqaO-SA"
      },
      "execution_count": null,
      "outputs": []
    },
    {
      "cell_type": "code",
      "source": [
        "#Overview  column is Strining convert string convert  into list\n",
        "movies['overview'] = movies['overview'].apply(lambda x:x.split())"
      ],
      "metadata": {
        "id": "NngswlpsQ-kk"
      },
      "execution_count": null,
      "outputs": []
    },
    {
      "cell_type": "code",
      "source": [
        "#remved the space blw words of list\n",
        "movies['genres'] = movies['genres'].apply(lambda x:[i.replace(\" \",\"\") for i in x])\n",
        "movies['keywords'] = movies['keywords'].apply(lambda x:[i.replace(\" \",\"\") for i in x])\n",
        "movies['cast'] = movies['cast'].apply(lambda x:[i.replace(\" \",\"\") for i in x])\n",
        "movies['crew'] = movies['crew'].apply(lambda x:[i.replace(\" \",\"\") for i in x])\n"
      ],
      "metadata": {
        "id": "07QI0g56pYfh"
      },
      "execution_count": null,
      "outputs": []
    },
    {
      "cell_type": "code",
      "source": [
        "movies.head()"
      ],
      "metadata": {
        "id": "xdEFfImkvz83"
      },
      "execution_count": null,
      "outputs": []
    },
    {
      "cell_type": "code",
      "source": [
        "#Create New column name Tage Conncet this our colamn overview\tgenres\tkeywords\tcast\tcrew\n",
        "movies['tags'] = movies['overview'] + movies['genres'] + movies['keywords'] + movies['cast'] + movies['crew']"
      ],
      "metadata": {
        "id": "5PcwC25oxtrM"
      },
      "execution_count": null,
      "outputs": []
    },
    {
      "cell_type": "code",
      "source": [
        "movies.head()"
      ],
      "metadata": {
        "id": "Xbtdf6nVzmVN"
      },
      "execution_count": null,
      "outputs": []
    },
    {
      "cell_type": "code",
      "source": [
        "#Create new data\n",
        "new_df = movies[['movie_id', 'title', 'tags']]"
      ],
      "metadata": {
        "id": "yTxZX0Zvz3k1"
      },
      "execution_count": null,
      "outputs": []
    },
    {
      "cell_type": "code",
      "source": [
        "new_df.head()"
      ],
      "metadata": {
        "id": "_ezpVATEz9_m"
      },
      "execution_count": null,
      "outputs": []
    },
    {
      "cell_type": "code",
      "source": [
        "#Convert Tage Colunma in string\n",
        "new_df['tags'] = new_df['tags'].apply(lambda x:\" \".join(x))"
      ],
      "metadata": {
        "id": "Q7qMldS90HkO"
      },
      "execution_count": null,
      "outputs": []
    },
    {
      "cell_type": "code",
      "source": [
        "new_df.head()"
      ],
      "metadata": {
        "id": "vHB0lGxA0NI3"
      },
      "execution_count": null,
      "outputs": []
    },
    {
      "cell_type": "code",
      "source": [
        "#Show the tage of 1 row\n",
        "new_df['tags'][0]"
      ],
      "metadata": {
        "id": "y8SjB7gu0dN2"
      },
      "execution_count": null,
      "outputs": []
    },
    {
      "cell_type": "code",
      "source": [
        "#convert in lowers case\n",
        "new_df['tags'] = new_df['tags'].apply(lambda x:x.lower())"
      ],
      "metadata": {
        "id": "BxeTPgAn0xFg"
      },
      "execution_count": null,
      "outputs": []
    },
    {
      "cell_type": "code",
      "source": [
        "new_df.head()"
      ],
      "metadata": {
        "id": "dV-oPgx-03ap"
      },
      "execution_count": null,
      "outputs": []
    },
    {
      "cell_type": "code",
      "source": [
        "import nltk  # Importing the NLTK library for natural language processing\n",
        "from nltk.stem.porter import PorterStemmer  # Importing the Porter Stemmer for stemming words\n",
        "import re  # Importing the 're' module for regular expressions\n",
        "\n",
        "# Importing stopwords from the nltk.corpus module\n",
        "from nltk.corpus import stopwords\n",
        "\n",
        "# Download the 'stopwords' resource if it's not already downloaded\n",
        "nltk.download('stopwords')\n"
      ],
      "metadata": {
        "id": "seTW9T9k48s6"
      },
      "execution_count": null,
      "outputs": []
    },
    {
      "cell_type": "code",
      "source": [
        "def preprocess_text(text):\n",
        "    \"\"\"\n",
        "    This function preprocesses the input text by removing non-alphabetic characters,\n",
        "    converting to lowercase, removing stopwords, and applying stemming.\n",
        "\n",
        "    Args:\n",
        "        text (str): The input text to preprocess.\n",
        "\n",
        "    Returns:\n",
        "        str: The preprocessed text.\n",
        "    \"\"\"\n",
        "    # Remove non-alphabetic characters\n",
        "\n",
        "    # Remove stopwords and apply stemming\n",
        "    words = [ps.stem(word) for word in words if word not in set(stopwords.words('english'))]\n",
        "\n",
        "    # Join words back into a single string\n",
        "    preprocessed_text = ' '.join(words)\n",
        "\n",
        "    return preprocessed_text\n",
        "\n",
        "# Assume new_df is a DataFrame that contains a column 'tags'\n",
        "# Apply the preprocess_text function to each entry in the 'tags' column\n",
        "new_df['tags'] = new_df['tags'].apply(preprocess_text)"
      ],
      "metadata": {
        "id": "T_c43hbl48mD"
      },
      "execution_count": null,
      "outputs": []
    },
    {
      "cell_type": "code",
      "source": [
        "#show the Tage Raw atfter Text Preprocessing\n",
        "new_df['tags'][0]"
      ],
      "metadata": {
        "id": "iZXQ3mlmiGss"
      },
      "execution_count": null,
      "outputs": []
    },
    {
      "cell_type": "code",
      "source": [
        "#convert this word to vecter\n",
        "from sklearn.feature_extraction.text import CountVectorizer\n",
        "cv = CountVectorizer(max_features=5000, stop_words='english')"
      ],
      "metadata": {
        "id": "N3InIN_JjEBu"
      },
      "execution_count": null,
      "outputs": []
    },
    {
      "cell_type": "code",
      "source": [
        "#Use fit trainfom function\n",
        "vectors= cv.fit_transform(new_df['tags']).toarray()"
      ],
      "metadata": {
        "id": "wUpujoR0jI6h"
      },
      "execution_count": null,
      "outputs": []
    },
    {
      "cell_type": "code",
      "source": [
        "vectors"
      ],
      "metadata": {
        "id": "hOntHmh1jdF5"
      },
      "execution_count": null,
      "outputs": []
    },
    {
      "cell_type": "markdown",
      "source": [],
      "metadata": {
        "id": "51mlse2T4MjK"
      }
    },
    {
      "cell_type": "code",
      "source": [
        "#calculate  the cosin_distance_ with fisrt to list move\n",
        "from sklearn.metrics.pairwise import cosine_similarity\n",
        "simillarity = cosine_similarity(vectors)"
      ],
      "metadata": {
        "id": "_Sf4zqQmklhc"
      },
      "execution_count": null,
      "outputs": []
    },
    {
      "cell_type": "code",
      "source": [
        "simillarity[0]"
      ],
      "metadata": {
        "id": "jjfiKO--laIb"
      },
      "execution_count": null,
      "outputs": []
    },
    {
      "cell_type": "code",
      "source": [
        "#create a Recemnder Function\n",
        "def recommend(movie):\n",
        "    movie_index = new_df[new_df['title'] == movie].index[0]\n",
        "    distances = simillarity[movie_index]\n",
        "    movies_list = sorted(list(enumerate(distances)), reverse=True, key=lambda x: x[1])[1:6]\n",
        "    for i in movies_list:\n",
        "        print(new_df.iloc[i[0]].title)"
      ],
      "metadata": {
        "id": "Q9A1Qik4mETD"
      },
      "execution_count": null,
      "outputs": []
    },
    {
      "cell_type": "code",
      "source": [
        "recommend('Batman Begins')"
      ],
      "metadata": {
        "id": "zBerKTaYp81S"
      },
      "execution_count": null,
      "outputs": []
    },
    {
      "cell_type": "code",
      "source": [
        "#check accuracy\n",
        "import pickle\n",
        "\n"
      ],
      "metadata": {
        "id": "vA1-rhhLqKI-"
      },
      "execution_count": null,
      "outputs": []
    }
  ]
}