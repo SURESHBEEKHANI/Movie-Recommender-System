{
  "cells": [
    {
      "cell_type": "markdown",
      "metadata": {
        "colab_type": "text",
        "id": "view-in-github"
      },
      "source": [
        "<a href=\"https://colab.research.google.com/github/SURESHBEEKHANI/Recommender-system/blob/main/Movie_Recommender_System_.ipynb\" target=\"_parent\"><img src=\"https://colab.research.google.com/assets/colab-badge.svg\" alt=\"Open In Colab\"/></a>"
      ]
    },
    {
      "cell_type": "markdown",
      "metadata": {
        "id": "rcMPRzr52Dmc"
      },
      "source": [
        "## Movie Recommender System"
      ]
    },
    {
      "cell_type": "code",
      "execution_count": 1,
      "metadata": {
        "id": "Izb3B73d1kCR"
      },
      "outputs": [
        {
          "ename": "ModuleNotFoundError",
          "evalue": "No module named 'pandas'",
          "output_type": "error",
          "traceback": [
            "\u001b[1;31m---------------------------------------------------------------------------\u001b[0m",
            "\u001b[1;31mModuleNotFoundError\u001b[0m                       Traceback (most recent call last)",
            "Cell \u001b[1;32mIn[1], line 1\u001b[0m\n\u001b[1;32m----> 1\u001b[0m \u001b[38;5;28;01mimport\u001b[39;00m \u001b[38;5;21;01mpandas\u001b[39;00m \u001b[38;5;28;01mas\u001b[39;00m \u001b[38;5;21;01mpd\u001b[39;00m  \u001b[38;5;66;03m# Import the pandas library and call it 'pd' for handling data tables\u001b[39;00m\n\u001b[0;32m      2\u001b[0m \u001b[38;5;28;01mimport\u001b[39;00m \u001b[38;5;21;01mnumpy\u001b[39;00m \u001b[38;5;28;01mas\u001b[39;00m \u001b[38;5;21;01mnp\u001b[39;00m  \u001b[38;5;66;03m# Import the numpy library and call it 'np' for handling numerical values\u001b[39;00m\n\u001b[0;32m      3\u001b[0m \u001b[38;5;28;01mimport\u001b[39;00m \u001b[38;5;21;01mast\u001b[39;00m  \u001b[38;5;66;03m# Import the ast library for working with abstract syntax trees\u001b[39;00m\n",
            "\u001b[1;31mModuleNotFoundError\u001b[0m: No module named 'pandas'"
          ]
        }
      ],
      "source": [
        "import pandas as pd  # Import the pandas library and call it 'pd' for handling data tables\n",
        "import numpy as np  # Import the numpy library and call it 'np' for handling numerical values\n",
        "import ast  # Import the ast library for working with abstract syntax trees\n"
      ]
    },
    {
      "cell_type": "code",
      "execution_count": null,
      "metadata": {
        "id": "-rBV9Y4tE9s1"
      },
      "outputs": [
        {
          "ename": "",
          "evalue": "",
          "output_type": "error",
          "traceback": [
            "\u001b[1;31mRunning cells with 'env (Python 3.9.0)' requires the ipykernel package.\n",
            "\u001b[1;31mRun the following command to install 'ipykernel' into the Python environment. \n",
            "\u001b[1;31mCommand: 'conda install -p c:\\Users\\Dell-pc\\Desktop\\Movie Recommender System\\env ipykernel --update-deps --force-reinstall'"
          ]
        }
      ],
      "source": [
        "# Load the data set Of Movies\n",
        "movies = pd.read_csv('/content/tmdb_5000_movies.csv')"
      ]
    },
    {
      "cell_type": "code",
      "execution_count": null,
      "metadata": {
        "id": "lDNLDeaKAStP"
      },
      "outputs": [
        {
          "ename": "",
          "evalue": "",
          "output_type": "error",
          "traceback": [
            "\u001b[1;31mRunning cells with 'env (Python 3.9.0)' requires the ipykernel package.\n",
            "\u001b[1;31mRun the following command to install 'ipykernel' into the Python environment. \n",
            "\u001b[1;31mCommand: 'conda install -p c:\\Users\\Dell-pc\\Desktop\\Movie Recommender System\\env ipykernel --update-deps --force-reinstall'"
          ]
        }
      ],
      "source": [
        "# Load the Create data set pf moves\n",
        "credits = pd.read_csv('tmdb_5000_credits.csv')"
      ]
    },
    {
      "cell_type": "code",
      "execution_count": null,
      "metadata": {
        "id": "e-1BJ8V3sMPF"
      },
      "outputs": [
        {
          "ename": "",
          "evalue": "",
          "output_type": "error",
          "traceback": [
            "\u001b[1;31mRunning cells with 'env (Python 3.9.0)' requires the ipykernel package.\n",
            "\u001b[1;31mRun the following command to install 'ipykernel' into the Python environment. \n",
            "\u001b[1;31mCommand: 'conda install -p c:\\Users\\Dell-pc\\Desktop\\Movie Recommender System\\env ipykernel --update-deps --force-reinstall'"
          ]
        }
      ],
      "source": [
        "# The movies data set has 4803 rows and 20 columns.\n",
        "movies.shape"
      ]
    },
    {
      "cell_type": "code",
      "execution_count": null,
      "metadata": {
        "id": "8M7GiLEMGx2P"
      },
      "outputs": [
        {
          "ename": "",
          "evalue": "",
          "output_type": "error",
          "traceback": [
            "\u001b[1;31mRunning cells with 'env (Python 3.9.0)' requires the ipykernel package.\n",
            "\u001b[1;31mRun the following command to install 'ipykernel' into the Python environment. \n",
            "\u001b[1;31mCommand: 'conda install -p c:\\Users\\Dell-pc\\Desktop\\Movie Recommender System\\env ipykernel --update-deps --force-reinstall'"
          ]
        }
      ],
      "source": [
        "# Show the first row of the data set\n",
        "movies.head(1)"
      ]
    },
    {
      "cell_type": "code",
      "execution_count": null,
      "metadata": {
        "id": "XRo3DqENsWJy"
      },
      "outputs": [
        {
          "ename": "",
          "evalue": "",
          "output_type": "error",
          "traceback": [
            "\u001b[1;31mRunning cells with 'env (Python 3.9.0)' requires the ipykernel package.\n",
            "\u001b[1;31mRun the following command to install 'ipykernel' into the Python environment. \n",
            "\u001b[1;31mCommand: 'conda install -p c:\\Users\\Dell-pc\\Desktop\\Movie Recommender System\\env ipykernel --update-deps --force-reinstall'"
          ]
        }
      ],
      "source": [
        "# Show the dimensions of the data set\n",
        "credits.shape"
      ]
    },
    {
      "cell_type": "code",
      "execution_count": null,
      "metadata": {
        "id": "NFhGZ-huGKpy"
      },
      "outputs": [
        {
          "ename": "",
          "evalue": "",
          "output_type": "error",
          "traceback": [
            "\u001b[1;31mRunning cells with 'env (Python 3.9.0)' requires the ipykernel package.\n",
            "\u001b[1;31mRun the following command to install 'ipykernel' into the Python environment. \n",
            "\u001b[1;31mCommand: 'conda install -p c:\\Users\\Dell-pc\\Desktop\\Movie Recommender System\\env ipykernel --update-deps --force-reinstall'"
          ]
        }
      ],
      "source": [
        "#Show the Fisrt Row of dataset\n",
        "credits.head(1)"
      ]
    },
    {
      "cell_type": "code",
      "execution_count": null,
      "metadata": {
        "id": "Qe8adQ-_ushW"
      },
      "outputs": [
        {
          "ename": "",
          "evalue": "",
          "output_type": "error",
          "traceback": [
            "\u001b[1;31mRunning cells with 'env (Python 3.9.0)' requires the ipykernel package.\n",
            "\u001b[1;31mRun the following command to install 'ipykernel' into the Python environment. \n",
            "\u001b[1;31mCommand: 'conda install -p c:\\Users\\Dell-pc\\Desktop\\Movie Recommender System\\env ipykernel --update-deps --force-reinstall'"
          ]
        }
      ],
      "source": [
        "# Merge the dataset credits with the movies dataset based on the 'title' column\n",
        "movies = movies.merge(credits, on='title')"
      ]
    },
    {
      "cell_type": "code",
      "execution_count": null,
      "metadata": {
        "id": "pK8k36qCvoQt"
      },
      "outputs": [
        {
          "ename": "",
          "evalue": "",
          "output_type": "error",
          "traceback": [
            "\u001b[1;31mRunning cells with 'env (Python 3.9.0)' requires the ipykernel package.\n",
            "\u001b[1;31mRun the following command to install 'ipykernel' into the Python environment. \n",
            "\u001b[1;31mCommand: 'conda install -p c:\\Users\\Dell-pc\\Desktop\\Movie Recommender System\\env ipykernel --update-deps --force-reinstall'"
          ]
        }
      ],
      "source": [
        "# After merge Shape of the Movie dataset\n",
        "movies.shape\n"
      ]
    },
    {
      "cell_type": "code",
      "execution_count": null,
      "metadata": {
        "id": "hfJqcUpJ5ac0"
      },
      "outputs": [
        {
          "ename": "",
          "evalue": "",
          "output_type": "error",
          "traceback": [
            "\u001b[1;31mRunning cells with 'env (Python 3.9.0)' requires the ipykernel package.\n",
            "\u001b[1;31mRun the following command to install 'ipykernel' into the Python environment. \n",
            "\u001b[1;31mCommand: 'conda install -p c:\\Users\\Dell-pc\\Desktop\\Movie Recommender System\\env ipykernel --update-deps --force-reinstall'"
          ]
        }
      ],
      "source": [
        "movies.info()"
      ]
    },
    {
      "cell_type": "code",
      "execution_count": null,
      "metadata": {
        "id": "Zppuxiwn2v8v"
      },
      "outputs": [
        {
          "ename": "",
          "evalue": "",
          "output_type": "error",
          "traceback": [
            "\u001b[1;31mRunning cells with 'env (Python 3.9.0)' requires the ipykernel package.\n",
            "\u001b[1;31mRun the following command to install 'ipykernel' into the Python environment. \n",
            "\u001b[1;31mCommand: 'conda install -p c:\\Users\\Dell-pc\\Desktop\\Movie Recommender System\\env ipykernel --update-deps --force-reinstall'"
          ]
        }
      ],
      "source": [
        "movies.info()"
      ]
    },
    {
      "cell_type": "code",
      "execution_count": null,
      "metadata": {
        "id": "en274Jwv657O"
      },
      "outputs": [
        {
          "ename": "",
          "evalue": "",
          "output_type": "error",
          "traceback": [
            "\u001b[1;31mRunning cells with 'env (Python 3.9.0)' requires the ipykernel package.\n",
            "\u001b[1;31mRun the following command to install 'ipykernel' into the Python environment. \n",
            "\u001b[1;31mCommand: 'conda install -p c:\\Users\\Dell-pc\\Desktop\\Movie Recommender System\\env ipykernel --update-deps --force-reinstall'"
          ]
        }
      ],
      "source": [
        "# Remove unnecessary columns from the 'movies' DataFrame\n",
        "# We want to keep only these columns: 'movie_id', 'title', 'overview', 'genres', 'keywords', 'cast', 'crew'\n",
        "movies = movies[['movie_id', 'title', 'overview', 'genres', 'keywords', 'cast', 'crew']]\n"
      ]
    },
    {
      "cell_type": "code",
      "execution_count": null,
      "metadata": {
        "id": "rz5T4tSepCfB"
      },
      "outputs": [
        {
          "ename": "",
          "evalue": "",
          "output_type": "error",
          "traceback": [
            "\u001b[1;31mRunning cells with 'env (Python 3.9.0)' requires the ipykernel package.\n",
            "\u001b[1;31mRun the following command to install 'ipykernel' into the Python environment. \n",
            "\u001b[1;31mCommand: 'conda install -p c:\\Users\\Dell-pc\\Desktop\\Movie Recommender System\\env ipykernel --update-deps --force-reinstall'"
          ]
        }
      ],
      "source": []
    },
    {
      "cell_type": "code",
      "execution_count": null,
      "metadata": {
        "id": "83iUd2PLpCam"
      },
      "outputs": [
        {
          "ename": "",
          "evalue": "",
          "output_type": "error",
          "traceback": [
            "\u001b[1;31mRunning cells with 'env (Python 3.9.0)' requires the ipykernel package.\n",
            "\u001b[1;31mRun the following command to install 'ipykernel' into the Python environment. \n",
            "\u001b[1;31mCommand: 'conda install -p c:\\Users\\Dell-pc\\Desktop\\Movie Recommender System\\env ipykernel --update-deps --force-reinstall'"
          ]
        }
      ],
      "source": [
        "# Remove unnecessary columns from the 'movies' DataFrame\n",
        "# We want to keep only these columns: 'movie_id', 'title', 'overview', 'genres', 'keywords', 'cast', 'crew'\n",
        "movies = movies[['movie_id', 'title', 'overview', 'genres', 'keywords', 'cast', 'crew']]\n"
      ]
    },
    {
      "cell_type": "code",
      "execution_count": null,
      "metadata": {
        "id": "Eby6nhr86OmU"
      },
      "outputs": [
        {
          "ename": "",
          "evalue": "",
          "output_type": "error",
          "traceback": [
            "\u001b[1;31mRunning cells with 'env (Python 3.9.0)' requires the ipykernel package.\n",
            "\u001b[1;31mRun the following command to install 'ipykernel' into the Python environment. \n",
            "\u001b[1;31mCommand: 'conda install -p c:\\Users\\Dell-pc\\Desktop\\Movie Recommender System\\env ipykernel --update-deps --force-reinstall'"
          ]
        }
      ],
      "source": [
        "movies.head()"
      ]
    },
    {
      "cell_type": "code",
      "execution_count": null,
      "metadata": {
        "id": "5FHE8FPt8MSU"
      },
      "outputs": [
        {
          "ename": "",
          "evalue": "",
          "output_type": "error",
          "traceback": [
            "\u001b[1;31mRunning cells with 'env (Python 3.9.0)' requires the ipykernel package.\n",
            "\u001b[1;31mRun the following command to install 'ipykernel' into the Python environment. \n",
            "\u001b[1;31mCommand: 'conda install -p c:\\Users\\Dell-pc\\Desktop\\Movie Recommender System\\env ipykernel --update-deps --force-reinstall'"
          ]
        }
      ],
      "source": [
        "#Check the missing  value\n",
        "movies.isnull().sum()"
      ]
    },
    {
      "cell_type": "code",
      "execution_count": null,
      "metadata": {
        "id": "dnSGxgZN8PUn"
      },
      "outputs": [
        {
          "ename": "",
          "evalue": "",
          "output_type": "error",
          "traceback": [
            "\u001b[1;31mRunning cells with 'env (Python 3.9.0)' requires the ipykernel package.\n",
            "\u001b[1;31mRun the following command to install 'ipykernel' into the Python environment. \n",
            "\u001b[1;31mCommand: 'conda install -p c:\\Users\\Dell-pc\\Desktop\\Movie Recommender System\\env ipykernel --update-deps --force-reinstall'"
          ]
        }
      ],
      "source": [
        "## remved the Null value from dataset\n",
        "movies.dropna(inplace=True)"
      ]
    },
    {
      "cell_type": "code",
      "execution_count": null,
      "metadata": {
        "id": "QhpQqX238jiN"
      },
      "outputs": [
        {
          "ename": "",
          "evalue": "",
          "output_type": "error",
          "traceback": [
            "\u001b[1;31mRunning cells with 'env (Python 3.9.0)' requires the ipykernel package.\n",
            "\u001b[1;31mRun the following command to install 'ipykernel' into the Python environment. \n",
            "\u001b[1;31mCommand: 'conda install -p c:\\Users\\Dell-pc\\Desktop\\Movie Recommender System\\env ipykernel --update-deps --force-reinstall'"
          ]
        }
      ],
      "source": [
        "#Check the Duplicate  value from data set\n",
        "movies.duplicated().sum()"
      ]
    },
    {
      "cell_type": "code",
      "execution_count": null,
      "metadata": {
        "id": "heRJDaGf8_Ne"
      },
      "outputs": [
        {
          "ename": "",
          "evalue": "",
          "output_type": "error",
          "traceback": [
            "\u001b[1;31mRunning cells with 'env (Python 3.9.0)' requires the ipykernel package.\n",
            "\u001b[1;31mRun the following command to install 'ipykernel' into the Python environment. \n",
            "\u001b[1;31mCommand: 'conda install -p c:\\Users\\Dell-pc\\Desktop\\Movie Recommender System\\env ipykernel --update-deps --force-reinstall'"
          ]
        }
      ],
      "source": [
        "#Check the value of Movies column  genres\n",
        "movies.iloc[0].genres"
      ]
    },
    {
      "cell_type": "code",
      "execution_count": null,
      "metadata": {
        "id": "i2JmWr7r_CYn"
      },
      "outputs": [
        {
          "ename": "",
          "evalue": "",
          "output_type": "error",
          "traceback": [
            "\u001b[1;31mRunning cells with 'env (Python 3.9.0)' requires the ipykernel package.\n",
            "\u001b[1;31mRun the following command to install 'ipykernel' into the Python environment. \n",
            "\u001b[1;31mCommand: 'conda install -p c:\\Users\\Dell-pc\\Desktop\\Movie Recommender System\\env ipykernel --update-deps --force-reinstall'"
          ]
        }
      ],
      "source": [
        "def convert(obj):\n",
        "    \"\"\"\n",
        "    This function takes a string representation of a list of dictionaries,\n",
        "    converts it into an actual list of dictionaries, and then extracts the 'name'\n",
        "    field from each dictionary to create a list of names.\n",
        "\n",
        "    Args:\n",
        "        obj (str): A string representation of a list of dictionaries.\n",
        "\n",
        "    Returns:\n",
        "        list: A list containing the 'name' values from each dictionary.\n",
        "    \"\"\"\n",
        "    List = []  # Create an empty list to store the names.\n",
        "\n",
        "    # Convert the string representation of the list into an actual list of dictionaries.\n",
        "    for i in ast.literal_eval(obj):\n",
        "        # Extract the 'name' field from each dictionary and add it to the List.\n",
        "        List.append(i['name'])\n",
        "\n",
        "    # Return the list of names.\n",
        "    return List\n"
      ]
    },
    {
      "cell_type": "code",
      "execution_count": null,
      "metadata": {
        "id": "DWoEijYR_0Nm"
      },
      "outputs": [
        {
          "ename": "",
          "evalue": "",
          "output_type": "error",
          "traceback": [
            "\u001b[1;31mRunning cells with 'env (Python 3.9.0)' requires the ipykernel package.\n",
            "\u001b[1;31mRun the following command to install 'ipykernel' into the Python environment. \n",
            "\u001b[1;31mCommand: 'conda install -p c:\\Users\\Dell-pc\\Desktop\\Movie Recommender System\\env ipykernel --update-deps --force-reinstall'"
          ]
        }
      ],
      "source": [
        "# Apply the convert function to the 'genres' column\n",
        "# For each row in the 'genres' column, it converts the string into a list of names\n",
        "movies['genres'] = movies['genres'].apply(convert)\n",
        "\n",
        "# Apply the convert function to the 'keywords' column\n",
        "# For each row in the 'keywords' column, it converts the string into a list of names\n",
        "movies['keywords'] = movies['keywords'].apply(convert)\n"
      ]
    },
    {
      "cell_type": "code",
      "execution_count": null,
      "metadata": {
        "id": "Bh7hiloiKozl"
      },
      "outputs": [
        {
          "ename": "",
          "evalue": "",
          "output_type": "error",
          "traceback": [
            "\u001b[1;31mRunning cells with 'env (Python 3.9.0)' requires the ipykernel package.\n",
            "\u001b[1;31mRun the following command to install 'ipykernel' into the Python environment. \n",
            "\u001b[1;31mCommand: 'conda install -p c:\\Users\\Dell-pc\\Desktop\\Movie Recommender System\\env ipykernel --update-deps --force-reinstall'"
          ]
        }
      ],
      "source": [
        "def convert3(obj):\n",
        "    \"\"\"\n",
        "    This function takes a string representation of a list of dictionaries,\n",
        "    converts it into an actual list of dictionaries, and then extracts the 'name'\n",
        "    field from each dictionary to create a list of names. It only adds up to three names.\n",
        "\n",
        "    Args:\n",
        "        obj (str): A string representation of a list of dictionaries.\n",
        "\n",
        "    Returns:\n",
        "        list: A list containing up to three 'name' values from each dictionary.\n",
        "    \"\"\"\n",
        "    counter = 0  # Initialize a counter to keep track of the number of names added.\n",
        "    List = []  # Create an empty list to store the names.\n",
        "\n",
        "    # Convert the string representation of the list into an actual list of dictionaries.\n",
        "    for i in ast.literal_eval(obj):\n",
        "        # Extract the 'name' field from each dictionary and add it to the List.\n",
        "        if counter != 3:  # Check if the counter has reached three.\n",
        "            List.append(i['name'])  # Add the 'name' to the list.\n",
        "            counter += 1  # Increment the counter.\n",
        "        else:\n",
        "            break  # If three names have been added, exit the loop.\n",
        "\n",
        "    # Return the list of names.\n",
        "    return List"
      ]
    },
    {
      "cell_type": "code",
      "execution_count": null,
      "metadata": {
        "id": "EkrZg-s4LxfV"
      },
      "outputs": [
        {
          "ename": "",
          "evalue": "",
          "output_type": "error",
          "traceback": [
            "\u001b[1;31mRunning cells with 'env (Python 3.9.0)' requires the ipykernel package.\n",
            "\u001b[1;31mRun the following command to install 'ipykernel' into the Python environment. \n",
            "\u001b[1;31mCommand: 'conda install -p c:\\Users\\Dell-pc\\Desktop\\Movie Recommender System\\env ipykernel --update-deps --force-reinstall'"
          ]
        }
      ],
      "source": [
        "#Use Contert3 Function and Every movie  first 3 acter name add\n",
        "movies['cast']= movies['cast'].apply(convert3)\n",
        "movies.head()"
      ]
    },
    {
      "cell_type": "code",
      "execution_count": null,
      "metadata": {
        "id": "_OjJXPVZOMKL"
      },
      "outputs": [
        {
          "ename": "",
          "evalue": "",
          "output_type": "error",
          "traceback": [
            "\u001b[1;31mRunning cells with 'env (Python 3.9.0)' requires the ipykernel package.\n",
            "\u001b[1;31mRun the following command to install 'ipykernel' into the Python environment. \n",
            "\u001b[1;31mCommand: 'conda install -p c:\\Users\\Dell-pc\\Desktop\\Movie Recommender System\\env ipykernel --update-deps --force-reinstall'"
          ]
        }
      ],
      "source": [
        "\n",
        "def fetch_director(obj):\n",
        "    \"\"\"\n",
        "    This function takes a string representation of a list of dictionaries,\n",
        "    converts it into an actual list of dictionaries, and then extracts the 'name'\n",
        "    of the person whose job is 'Director'.\n",
        "\n",
        "    Args:\n",
        "        obj (str): A string representation of a list of dictionaries.\n",
        "\n",
        "    Returns:\n",
        "        list: A list containing the name of the 'Director'. If no director is found, the list will be empty.\n",
        "    \"\"\"\n",
        "    List = []  # Create an empty list to store the director's name.\n",
        "\n",
        "    # Convert the string representation of the list into an actual list of dictionaries.\n",
        "    for i in ast.literal_eval(obj):\n",
        "        # Check if the 'job' field is 'Director'.\n",
        "        if i['job'] == 'Director':\n",
        "            List.append(i['name'])  # Add the director's name to the list.\n",
        "            break  # Stop the loop after finding the director.\n",
        "\n",
        "    # Return the list containing the director's name.\n",
        "    return List"
      ]
    },
    {
      "cell_type": "code",
      "execution_count": null,
      "metadata": {
        "id": "C_uBGnqaO-SA"
      },
      "outputs": [
        {
          "ename": "",
          "evalue": "",
          "output_type": "error",
          "traceback": [
            "\u001b[1;31mRunning cells with 'env (Python 3.9.0)' requires the ipykernel package.\n",
            "\u001b[1;31mRun the following command to install 'ipykernel' into the Python environment. \n",
            "\u001b[1;31mCommand: 'conda install -p c:\\Users\\Dell-pc\\Desktop\\Movie Recommender System\\env ipykernel --update-deps --force-reinstall'"
          ]
        }
      ],
      "source": [
        "movies['crew'] = movies['crew'].apply(fetch_director)\n",
        "movies.head()"
      ]
    },
    {
      "cell_type": "code",
      "execution_count": null,
      "metadata": {
        "id": "NngswlpsQ-kk"
      },
      "outputs": [
        {
          "ename": "",
          "evalue": "",
          "output_type": "error",
          "traceback": [
            "\u001b[1;31mRunning cells with 'env (Python 3.9.0)' requires the ipykernel package.\n",
            "\u001b[1;31mRun the following command to install 'ipykernel' into the Python environment. \n",
            "\u001b[1;31mCommand: 'conda install -p c:\\Users\\Dell-pc\\Desktop\\Movie Recommender System\\env ipykernel --update-deps --force-reinstall'"
          ]
        }
      ],
      "source": [
        "#Overview  column is Strining convert string convert  into list\n",
        "movies['overview'] = movies['overview'].apply(lambda x:x.split())"
      ]
    },
    {
      "cell_type": "code",
      "execution_count": null,
      "metadata": {
        "id": "07QI0g56pYfh"
      },
      "outputs": [
        {
          "ename": "",
          "evalue": "",
          "output_type": "error",
          "traceback": [
            "\u001b[1;31mRunning cells with 'env (Python 3.9.0)' requires the ipykernel package.\n",
            "\u001b[1;31mRun the following command to install 'ipykernel' into the Python environment. \n",
            "\u001b[1;31mCommand: 'conda install -p c:\\Users\\Dell-pc\\Desktop\\Movie Recommender System\\env ipykernel --update-deps --force-reinstall'"
          ]
        }
      ],
      "source": [
        "#remved the space blw words of list\n",
        "movies['genres'] = movies['genres'].apply(lambda x:[i.replace(\" \",\"\") for i in x])\n",
        "movies['keywords'] = movies['keywords'].apply(lambda x:[i.replace(\" \",\"\") for i in x])\n",
        "movies['cast'] = movies['cast'].apply(lambda x:[i.replace(\" \",\"\") for i in x])\n",
        "movies['crew'] = movies['crew'].apply(lambda x:[i.replace(\" \",\"\") for i in x])\n"
      ]
    },
    {
      "cell_type": "code",
      "execution_count": null,
      "metadata": {
        "id": "xdEFfImkvz83"
      },
      "outputs": [
        {
          "ename": "",
          "evalue": "",
          "output_type": "error",
          "traceback": [
            "\u001b[1;31mRunning cells with 'env (Python 3.9.0)' requires the ipykernel package.\n",
            "\u001b[1;31mRun the following command to install 'ipykernel' into the Python environment. \n",
            "\u001b[1;31mCommand: 'conda install -p c:\\Users\\Dell-pc\\Desktop\\Movie Recommender System\\env ipykernel --update-deps --force-reinstall'"
          ]
        }
      ],
      "source": [
        "movies.head()"
      ]
    },
    {
      "cell_type": "code",
      "execution_count": null,
      "metadata": {
        "id": "5PcwC25oxtrM"
      },
      "outputs": [
        {
          "ename": "",
          "evalue": "",
          "output_type": "error",
          "traceback": [
            "\u001b[1;31mRunning cells with 'env (Python 3.9.0)' requires the ipykernel package.\n",
            "\u001b[1;31mRun the following command to install 'ipykernel' into the Python environment. \n",
            "\u001b[1;31mCommand: 'conda install -p c:\\Users\\Dell-pc\\Desktop\\Movie Recommender System\\env ipykernel --update-deps --force-reinstall'"
          ]
        }
      ],
      "source": [
        "#Create New column name Tage Conncet this our colamn overview\tgenres\tkeywords\tcast\tcrew\n",
        "movies['tags'] = movies['overview'] + movies['genres'] + movies['keywords'] + movies['cast'] + movies['crew']"
      ]
    },
    {
      "cell_type": "code",
      "execution_count": null,
      "metadata": {
        "id": "Xbtdf6nVzmVN"
      },
      "outputs": [
        {
          "ename": "",
          "evalue": "",
          "output_type": "error",
          "traceback": [
            "\u001b[1;31mRunning cells with 'env (Python 3.9.0)' requires the ipykernel package.\n",
            "\u001b[1;31mRun the following command to install 'ipykernel' into the Python environment. \n",
            "\u001b[1;31mCommand: 'conda install -p c:\\Users\\Dell-pc\\Desktop\\Movie Recommender System\\env ipykernel --update-deps --force-reinstall'"
          ]
        }
      ],
      "source": [
        "movies.head()"
      ]
    },
    {
      "cell_type": "code",
      "execution_count": null,
      "metadata": {
        "id": "yTxZX0Zvz3k1"
      },
      "outputs": [
        {
          "ename": "",
          "evalue": "",
          "output_type": "error",
          "traceback": [
            "\u001b[1;31mRunning cells with 'env (Python 3.9.0)' requires the ipykernel package.\n",
            "\u001b[1;31mRun the following command to install 'ipykernel' into the Python environment. \n",
            "\u001b[1;31mCommand: 'conda install -p c:\\Users\\Dell-pc\\Desktop\\Movie Recommender System\\env ipykernel --update-deps --force-reinstall'"
          ]
        }
      ],
      "source": [
        "#Create new data\n",
        "new_df = movies[['movie_id', 'title', 'tags']]"
      ]
    },
    {
      "cell_type": "code",
      "execution_count": null,
      "metadata": {
        "id": "_ezpVATEz9_m"
      },
      "outputs": [
        {
          "ename": "",
          "evalue": "",
          "output_type": "error",
          "traceback": [
            "\u001b[1;31mRunning cells with 'env (Python 3.9.0)' requires the ipykernel package.\n",
            "\u001b[1;31mRun the following command to install 'ipykernel' into the Python environment. \n",
            "\u001b[1;31mCommand: 'conda install -p c:\\Users\\Dell-pc\\Desktop\\Movie Recommender System\\env ipykernel --update-deps --force-reinstall'"
          ]
        }
      ],
      "source": [
        "new_df.head()"
      ]
    },
    {
      "cell_type": "code",
      "execution_count": null,
      "metadata": {
        "id": "Q7qMldS90HkO"
      },
      "outputs": [
        {
          "ename": "",
          "evalue": "",
          "output_type": "error",
          "traceback": [
            "\u001b[1;31mRunning cells with 'env (Python 3.9.0)' requires the ipykernel package.\n",
            "\u001b[1;31mRun the following command to install 'ipykernel' into the Python environment. \n",
            "\u001b[1;31mCommand: 'conda install -p c:\\Users\\Dell-pc\\Desktop\\Movie Recommender System\\env ipykernel --update-deps --force-reinstall'"
          ]
        }
      ],
      "source": [
        "#Convert Tage Colunma in string\n",
        "new_df['tags'] = new_df['tags'].apply(lambda x:\" \".join(x))"
      ]
    },
    {
      "cell_type": "code",
      "execution_count": null,
      "metadata": {
        "id": "vHB0lGxA0NI3"
      },
      "outputs": [
        {
          "ename": "",
          "evalue": "",
          "output_type": "error",
          "traceback": [
            "\u001b[1;31mRunning cells with 'env (Python 3.9.0)' requires the ipykernel package.\n",
            "\u001b[1;31mRun the following command to install 'ipykernel' into the Python environment. \n",
            "\u001b[1;31mCommand: 'conda install -p c:\\Users\\Dell-pc\\Desktop\\Movie Recommender System\\env ipykernel --update-deps --force-reinstall'"
          ]
        }
      ],
      "source": [
        "new_df.head()"
      ]
    },
    {
      "cell_type": "code",
      "execution_count": null,
      "metadata": {
        "id": "y8SjB7gu0dN2"
      },
      "outputs": [
        {
          "ename": "",
          "evalue": "",
          "output_type": "error",
          "traceback": [
            "\u001b[1;31mRunning cells with 'env (Python 3.9.0)' requires the ipykernel package.\n",
            "\u001b[1;31mRun the following command to install 'ipykernel' into the Python environment. \n",
            "\u001b[1;31mCommand: 'conda install -p c:\\Users\\Dell-pc\\Desktop\\Movie Recommender System\\env ipykernel --update-deps --force-reinstall'"
          ]
        }
      ],
      "source": [
        "#Show the tage of 1 row\n",
        "new_df['tags'][0]"
      ]
    },
    {
      "cell_type": "code",
      "execution_count": null,
      "metadata": {
        "id": "BxeTPgAn0xFg"
      },
      "outputs": [
        {
          "ename": "",
          "evalue": "",
          "output_type": "error",
          "traceback": [
            "\u001b[1;31mRunning cells with 'env (Python 3.9.0)' requires the ipykernel package.\n",
            "\u001b[1;31mRun the following command to install 'ipykernel' into the Python environment. \n",
            "\u001b[1;31mCommand: 'conda install -p c:\\Users\\Dell-pc\\Desktop\\Movie Recommender System\\env ipykernel --update-deps --force-reinstall'"
          ]
        }
      ],
      "source": [
        "#convert in lowers case\n",
        "new_df['tags'] = new_df['tags'].apply(lambda x:x.lower())"
      ]
    },
    {
      "cell_type": "code",
      "execution_count": null,
      "metadata": {
        "id": "dV-oPgx-03ap"
      },
      "outputs": [
        {
          "ename": "",
          "evalue": "",
          "output_type": "error",
          "traceback": [
            "\u001b[1;31mRunning cells with 'env (Python 3.9.0)' requires the ipykernel package.\n",
            "\u001b[1;31mRun the following command to install 'ipykernel' into the Python environment. \n",
            "\u001b[1;31mCommand: 'conda install -p c:\\Users\\Dell-pc\\Desktop\\Movie Recommender System\\env ipykernel --update-deps --force-reinstall'"
          ]
        }
      ],
      "source": [
        "new_df.head()"
      ]
    },
    {
      "cell_type": "code",
      "execution_count": null,
      "metadata": {
        "id": "seTW9T9k48s6"
      },
      "outputs": [
        {
          "ename": "",
          "evalue": "",
          "output_type": "error",
          "traceback": [
            "\u001b[1;31mRunning cells with 'env (Python 3.9.0)' requires the ipykernel package.\n",
            "\u001b[1;31mRun the following command to install 'ipykernel' into the Python environment. \n",
            "\u001b[1;31mCommand: 'conda install -p c:\\Users\\Dell-pc\\Desktop\\Movie Recommender System\\env ipykernel --update-deps --force-reinstall'"
          ]
        }
      ],
      "source": [
        "import nltk  # Importing the NLTK library for natural language processing\n",
        "from nltk.stem.porter import PorterStemmer  # Importing the Porter Stemmer for stemming words\n",
        "import re  # Importing the 're' module for regular expressions\n",
        "\n",
        "# Importing stopwords from the nltk.corpus module\n",
        "from nltk.corpus import stopwords\n",
        "\n",
        "# Download the 'stopwords' resource if it's not already downloaded\n",
        "nltk.download('stopwords')\n"
      ]
    },
    {
      "cell_type": "code",
      "execution_count": null,
      "metadata": {
        "id": "T_c43hbl48mD"
      },
      "outputs": [
        {
          "ename": "",
          "evalue": "",
          "output_type": "error",
          "traceback": [
            "\u001b[1;31mRunning cells with 'env (Python 3.9.0)' requires the ipykernel package.\n",
            "\u001b[1;31mRun the following command to install 'ipykernel' into the Python environment. \n",
            "\u001b[1;31mCommand: 'conda install -p c:\\Users\\Dell-pc\\Desktop\\Movie Recommender System\\env ipykernel --update-deps --force-reinstall'"
          ]
        }
      ],
      "source": [
        "def preprocess_text(text):\n",
        "    \"\"\"\n",
        "    This function preprocesses the input text by removing non-alphabetic characters,\n",
        "    converting to lowercase, removing stopwords, and applying stemming.\n",
        "\n",
        "    Args:\n",
        "        text (str): The input text to preprocess.\n",
        "\n",
        "    Returns:\n",
        "        str: The preprocessed text.\n",
        "    \"\"\"\n",
        "    # Remove non-alphabetic characters\n",
        "\n",
        "    # Remove stopwords and apply stemming\n",
        "    words = [ps.stem(word) for word in words if word not in set(stopwords.words('english'))]\n",
        "\n",
        "    # Join words back into a single string\n",
        "    preprocessed_text = ' '.join(words)\n",
        "\n",
        "    return preprocessed_text\n",
        "\n",
        "# Assume new_df is a DataFrame that contains a column 'tags'\n",
        "# Apply the preprocess_text function to each entry in the 'tags' column\n",
        "new_df['tags'] = new_df['tags'].apply(preprocess_text)"
      ]
    },
    {
      "cell_type": "code",
      "execution_count": null,
      "metadata": {
        "id": "iZXQ3mlmiGss"
      },
      "outputs": [
        {
          "ename": "",
          "evalue": "",
          "output_type": "error",
          "traceback": [
            "\u001b[1;31mRunning cells with 'env (Python 3.9.0)' requires the ipykernel package.\n",
            "\u001b[1;31mRun the following command to install 'ipykernel' into the Python environment. \n",
            "\u001b[1;31mCommand: 'conda install -p c:\\Users\\Dell-pc\\Desktop\\Movie Recommender System\\env ipykernel --update-deps --force-reinstall'"
          ]
        }
      ],
      "source": [
        "#show the Tage Raw atfter Text Preprocessing\n",
        "new_df['tags'][0]"
      ]
    },
    {
      "cell_type": "code",
      "execution_count": null,
      "metadata": {
        "id": "N3InIN_JjEBu"
      },
      "outputs": [
        {
          "ename": "",
          "evalue": "",
          "output_type": "error",
          "traceback": [
            "\u001b[1;31mRunning cells with 'env (Python 3.9.0)' requires the ipykernel package.\n",
            "\u001b[1;31mRun the following command to install 'ipykernel' into the Python environment. \n",
            "\u001b[1;31mCommand: 'conda install -p c:\\Users\\Dell-pc\\Desktop\\Movie Recommender System\\env ipykernel --update-deps --force-reinstall'"
          ]
        }
      ],
      "source": [
        "#convert this word to vecter\n",
        "from sklearn.feature_extraction.text import CountVectorizer\n",
        "cv = CountVectorizer(max_features=5000, stop_words='english')"
      ]
    },
    {
      "cell_type": "code",
      "execution_count": null,
      "metadata": {
        "id": "wUpujoR0jI6h"
      },
      "outputs": [
        {
          "ename": "",
          "evalue": "",
          "output_type": "error",
          "traceback": [
            "\u001b[1;31mRunning cells with 'env (Python 3.9.0)' requires the ipykernel package.\n",
            "\u001b[1;31mRun the following command to install 'ipykernel' into the Python environment. \n",
            "\u001b[1;31mCommand: 'conda install -p c:\\Users\\Dell-pc\\Desktop\\Movie Recommender System\\env ipykernel --update-deps --force-reinstall'"
          ]
        }
      ],
      "source": [
        "#Use fit trainfom function\n",
        "vectors= cv.fit_transform(new_df['tags']).toarray()"
      ]
    },
    {
      "cell_type": "code",
      "execution_count": null,
      "metadata": {
        "id": "hOntHmh1jdF5"
      },
      "outputs": [
        {
          "ename": "",
          "evalue": "",
          "output_type": "error",
          "traceback": [
            "\u001b[1;31mRunning cells with 'env (Python 3.9.0)' requires the ipykernel package.\n",
            "\u001b[1;31mRun the following command to install 'ipykernel' into the Python environment. \n",
            "\u001b[1;31mCommand: 'conda install -p c:\\Users\\Dell-pc\\Desktop\\Movie Recommender System\\env ipykernel --update-deps --force-reinstall'"
          ]
        }
      ],
      "source": [
        "vectors"
      ]
    },
    {
      "cell_type": "markdown",
      "metadata": {
        "id": "51mlse2T4MjK"
      },
      "source": []
    },
    {
      "cell_type": "code",
      "execution_count": null,
      "metadata": {
        "id": "_Sf4zqQmklhc"
      },
      "outputs": [
        {
          "ename": "",
          "evalue": "",
          "output_type": "error",
          "traceback": [
            "\u001b[1;31mRunning cells with 'env (Python 3.9.0)' requires the ipykernel package.\n",
            "\u001b[1;31mRun the following command to install 'ipykernel' into the Python environment. \n",
            "\u001b[1;31mCommand: 'conda install -p c:\\Users\\Dell-pc\\Desktop\\Movie Recommender System\\env ipykernel --update-deps --force-reinstall'"
          ]
        }
      ],
      "source": [
        "#calculate  the cosin_distance_ with fisrt to list move\n",
        "from sklearn.metrics.pairwise import cosine_similarity\n",
        "simillarity = cosine_similarity(vectors)"
      ]
    },
    {
      "cell_type": "code",
      "execution_count": null,
      "metadata": {
        "id": "jjfiKO--laIb"
      },
      "outputs": [
        {
          "ename": "",
          "evalue": "",
          "output_type": "error",
          "traceback": [
            "\u001b[1;31mRunning cells with 'env (Python 3.9.0)' requires the ipykernel package.\n",
            "\u001b[1;31mRun the following command to install 'ipykernel' into the Python environment. \n",
            "\u001b[1;31mCommand: 'conda install -p c:\\Users\\Dell-pc\\Desktop\\Movie Recommender System\\env ipykernel --update-deps --force-reinstall'"
          ]
        }
      ],
      "source": [
        "simillarity[0]"
      ]
    },
    {
      "cell_type": "code",
      "execution_count": null,
      "metadata": {
        "id": "Q9A1Qik4mETD"
      },
      "outputs": [
        {
          "ename": "",
          "evalue": "",
          "output_type": "error",
          "traceback": [
            "\u001b[1;31mRunning cells with 'env (Python 3.9.0)' requires the ipykernel package.\n",
            "\u001b[1;31mRun the following command to install 'ipykernel' into the Python environment. \n",
            "\u001b[1;31mCommand: 'conda install -p c:\\Users\\Dell-pc\\Desktop\\Movie Recommender System\\env ipykernel --update-deps --force-reinstall'"
          ]
        }
      ],
      "source": [
        "#create a Recemnder Function\n",
        "def recommend(movie):\n",
        "    movie_index = new_df[new_df['title'] == movie].index[0]\n",
        "    distances = simillarity[movie_index]\n",
        "    movies_list = sorted(list(enumerate(distances)), reverse=True, key=lambda x: x[1])[1:6]\n",
        "    for i in movies_list:\n",
        "        print(new_df.iloc[i[0]].title)"
      ]
    },
    {
      "cell_type": "code",
      "execution_count": null,
      "metadata": {
        "id": "zBerKTaYp81S"
      },
      "outputs": [
        {
          "ename": "",
          "evalue": "",
          "output_type": "error",
          "traceback": [
            "\u001b[1;31mRunning cells with 'env (Python 3.9.0)' requires the ipykernel package.\n",
            "\u001b[1;31mRun the following command to install 'ipykernel' into the Python environment. \n",
            "\u001b[1;31mCommand: 'conda install -p c:\\Users\\Dell-pc\\Desktop\\Movie Recommender System\\env ipykernel --update-deps --force-reinstall'"
          ]
        }
      ],
      "source": [
        "recommend('Batman Begins')"
      ]
    },
    {
      "cell_type": "code",
      "execution_count": null,
      "metadata": {
        "id": "vA1-rhhLqKI-"
      },
      "outputs": [
        {
          "ename": "",
          "evalue": "",
          "output_type": "error",
          "traceback": [
            "\u001b[1;31mRunning cells with 'env (Python 3.9.0)' requires the ipykernel package.\n",
            "\u001b[1;31mRun the following command to install 'ipykernel' into the Python environment. \n",
            "\u001b[1;31mCommand: 'conda install -p c:\\Users\\Dell-pc\\Desktop\\Movie Recommender System\\env ipykernel --update-deps --force-reinstall'"
          ]
        }
      ],
      "source": [
        "#check accuracy\n",
        "import pickle\n",
        "\n"
      ]
    }
  ],
  "metadata": {
    "colab": {
      "include_colab_link": true,
      "private_outputs": true,
      "provenance": [],
      "toc_visible": true
    },
    "kernelspec": {
      "display_name": "Python 3",
      "name": "python3"
    },
    "language_info": {
      "codemirror_mode": {
        "name": "ipython",
        "version": 3
      },
      "file_extension": ".py",
      "mimetype": "text/x-python",
      "name": "python",
      "nbconvert_exporter": "python",
      "pygments_lexer": "ipython3",
      "version": "3.9.0"
    }
  },
  "nbformat": 4,
  "nbformat_minor": 0
}
