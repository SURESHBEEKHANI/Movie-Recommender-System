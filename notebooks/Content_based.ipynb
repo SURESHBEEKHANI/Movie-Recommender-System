{
  "cells": [
    {
      "cell_type": "markdown",
      "metadata": {
        "colab_type": "text",
        "id": "view-in-github"
      },
      "source": [
        "<a href=\"https://colab.research.google.com/github/SURESHBEEKHANI/Recommender-system/blob/main/Movie_Recommender_System_.ipynb\" target=\"_parent\"><img src=\"https://colab.research.google.com/assets/colab-badge.svg\" alt=\"Open In Colab\"/></a>"
      ]
    },
    {
      "cell_type": "markdown",
      "metadata": {
        "id": "rcMPRzr52Dmc"
      },
      "source": [
        "## Movie Recommender System"
      ]
    },
    {
      "cell_type": "code",
      "execution_count": 51,
      "metadata": {
        "id": "Izb3B73d1kCR"
      },
      "outputs": [],
      "source": [
        "import pandas as pd  # Import the pandas library and call it 'pd' for handling data tables\n",
        "import numpy as np  # Import the numpy library and call it 'np' for handling numerical values\n",
        "import ast  # Import the\n"
      ]
    },
    {
      "cell_type": "markdown",
      "metadata": {},
      "source": [
        "### Load DataSet"
      ]
    },
    {
      "cell_type": "code",
      "execution_count": 52,
      "metadata": {
        "id": "-rBV9Y4tE9s1"
      },
      "outputs": [],
      "source": [
        "file_path1 = r'C:\\Users\\Dell-pc\\Desktop\\Movie Recommender System\\data\\tmdb_5000_movies.csv'\n",
        "movies= pd.read_csv(file_path1)"
      ]
    },
    {
      "cell_type": "code",
      "execution_count": 53,
      "metadata": {
        "id": "lDNLDeaKAStP"
      },
      "outputs": [],
      "source": [
        "# Load the Create data set pf moves\n",
        "file_path2=r'C:\\Users\\Dell-pc\\Desktop\\Movie Recommender System\\data\\tmdb_5000_credits.csv'\n",
        "credits = pd.read_csv(file_path2)"
      ]
    },
    {
      "cell_type": "code",
      "execution_count": 54,
      "metadata": {
        "id": "e-1BJ8V3sMPF"
      },
      "outputs": [
        {
          "data": {
            "text/plain": [
              "(4803, 20)"
            ]
          },
          "execution_count": 54,
          "metadata": {},
          "output_type": "execute_result"
        }
      ],
      "source": [
        "# The movies data set has 4803 rows and 20 columns.\n",
        "movies.shape"
      ]
    },
    {
      "cell_type": "code",
      "execution_count": 55,
      "metadata": {
        "id": "8M7GiLEMGx2P"
      },
      "outputs": [
        {
          "data": {
            "text/html": [
              "<div>\n",
              "<style scoped>\n",
              "    .dataframe tbody tr th:only-of-type {\n",
              "        vertical-align: middle;\n",
              "    }\n",
              "\n",
              "    .dataframe tbody tr th {\n",
              "        vertical-align: top;\n",
              "    }\n",
              "\n",
              "    .dataframe thead th {\n",
              "        text-align: right;\n",
              "    }\n",
              "</style>\n",
              "<table border=\"1\" class=\"dataframe\">\n",
              "  <thead>\n",
              "    <tr style=\"text-align: right;\">\n",
              "      <th></th>\n",
              "      <th>budget</th>\n",
              "      <th>genres</th>\n",
              "      <th>homepage</th>\n",
              "      <th>id</th>\n",
              "      <th>keywords</th>\n",
              "      <th>original_language</th>\n",
              "      <th>original_title</th>\n",
              "      <th>overview</th>\n",
              "      <th>popularity</th>\n",
              "      <th>production_companies</th>\n",
              "      <th>production_countries</th>\n",
              "      <th>release_date</th>\n",
              "      <th>revenue</th>\n",
              "      <th>runtime</th>\n",
              "      <th>spoken_languages</th>\n",
              "      <th>status</th>\n",
              "      <th>tagline</th>\n",
              "      <th>title</th>\n",
              "      <th>vote_average</th>\n",
              "      <th>vote_count</th>\n",
              "    </tr>\n",
              "  </thead>\n",
              "  <tbody>\n",
              "    <tr>\n",
              "      <th>0</th>\n",
              "      <td>237000000</td>\n",
              "      <td>[{\"id\": 28, \"name\": \"Action\"}, {\"id\": 12, \"nam...</td>\n",
              "      <td>http://www.avatarmovie.com/</td>\n",
              "      <td>19995</td>\n",
              "      <td>[{\"id\": 1463, \"name\": \"culture clash\"}, {\"id\":...</td>\n",
              "      <td>en</td>\n",
              "      <td>Avatar</td>\n",
              "      <td>In the 22nd century, a paraplegic Marine is di...</td>\n",
              "      <td>150.437577</td>\n",
              "      <td>[{\"name\": \"Ingenious Film Partners\", \"id\": 289...</td>\n",
              "      <td>[{\"iso_3166_1\": \"US\", \"name\": \"United States o...</td>\n",
              "      <td>2009-12-10</td>\n",
              "      <td>2787965087</td>\n",
              "      <td>162.0</td>\n",
              "      <td>[{\"iso_639_1\": \"en\", \"name\": \"English\"}, {\"iso...</td>\n",
              "      <td>Released</td>\n",
              "      <td>Enter the World of Pandora.</td>\n",
              "      <td>Avatar</td>\n",
              "      <td>7.2</td>\n",
              "      <td>11800</td>\n",
              "    </tr>\n",
              "  </tbody>\n",
              "</table>\n",
              "</div>"
            ],
            "text/plain": [
              "      budget                                             genres  \\\n",
              "0  237000000  [{\"id\": 28, \"name\": \"Action\"}, {\"id\": 12, \"nam...   \n",
              "\n",
              "                      homepage     id  \\\n",
              "0  http://www.avatarmovie.com/  19995   \n",
              "\n",
              "                                            keywords original_language  \\\n",
              "0  [{\"id\": 1463, \"name\": \"culture clash\"}, {\"id\":...                en   \n",
              "\n",
              "  original_title                                           overview  \\\n",
              "0         Avatar  In the 22nd century, a paraplegic Marine is di...   \n",
              "\n",
              "   popularity                               production_companies  \\\n",
              "0  150.437577  [{\"name\": \"Ingenious Film Partners\", \"id\": 289...   \n",
              "\n",
              "                                production_countries release_date     revenue  \\\n",
              "0  [{\"iso_3166_1\": \"US\", \"name\": \"United States o...   2009-12-10  2787965087   \n",
              "\n",
              "   runtime                                   spoken_languages    status  \\\n",
              "0    162.0  [{\"iso_639_1\": \"en\", \"name\": \"English\"}, {\"iso...  Released   \n",
              "\n",
              "                       tagline   title  vote_average  vote_count  \n",
              "0  Enter the World of Pandora.  Avatar           7.2       11800  "
            ]
          },
          "execution_count": 55,
          "metadata": {},
          "output_type": "execute_result"
        }
      ],
      "source": [
        "# Show the first row of the data set\n",
        "movies.head(1)"
      ]
    },
    {
      "cell_type": "code",
      "execution_count": 56,
      "metadata": {
        "id": "XRo3DqENsWJy"
      },
      "outputs": [
        {
          "data": {
            "text/plain": [
              "(4803, 4)"
            ]
          },
          "execution_count": 56,
          "metadata": {},
          "output_type": "execute_result"
        }
      ],
      "source": [
        "# Show the dimensions of the data set\n",
        "credits.shape"
      ]
    },
    {
      "cell_type": "code",
      "execution_count": 57,
      "metadata": {
        "id": "NFhGZ-huGKpy"
      },
      "outputs": [
        {
          "data": {
            "text/html": [
              "<div>\n",
              "<style scoped>\n",
              "    .dataframe tbody tr th:only-of-type {\n",
              "        vertical-align: middle;\n",
              "    }\n",
              "\n",
              "    .dataframe tbody tr th {\n",
              "        vertical-align: top;\n",
              "    }\n",
              "\n",
              "    .dataframe thead th {\n",
              "        text-align: right;\n",
              "    }\n",
              "</style>\n",
              "<table border=\"1\" class=\"dataframe\">\n",
              "  <thead>\n",
              "    <tr style=\"text-align: right;\">\n",
              "      <th></th>\n",
              "      <th>movie_id</th>\n",
              "      <th>title</th>\n",
              "      <th>cast</th>\n",
              "      <th>crew</th>\n",
              "    </tr>\n",
              "  </thead>\n",
              "  <tbody>\n",
              "    <tr>\n",
              "      <th>0</th>\n",
              "      <td>19995</td>\n",
              "      <td>Avatar</td>\n",
              "      <td>[{\"cast_id\": 242, \"character\": \"Jake Sully\", \"...</td>\n",
              "      <td>[{\"credit_id\": \"52fe48009251416c750aca23\", \"de...</td>\n",
              "    </tr>\n",
              "  </tbody>\n",
              "</table>\n",
              "</div>"
            ],
            "text/plain": [
              "   movie_id   title                                               cast  \\\n",
              "0     19995  Avatar  [{\"cast_id\": 242, \"character\": \"Jake Sully\", \"...   \n",
              "\n",
              "                                                crew  \n",
              "0  [{\"credit_id\": \"52fe48009251416c750aca23\", \"de...  "
            ]
          },
          "execution_count": 57,
          "metadata": {},
          "output_type": "execute_result"
        }
      ],
      "source": [
        "#Show the Fisrt Row of dataset\n",
        "credits.head(1)"
      ]
    },
    {
      "cell_type": "markdown",
      "metadata": {},
      "source": [
        "### merage the dataset "
      ]
    },
    {
      "cell_type": "code",
      "execution_count": 58,
      "metadata": {
        "id": "Qe8adQ-_ushW"
      },
      "outputs": [],
      "source": [
        "# Merge the dataset credits with the movies dataset based on the 'title' column\n",
        "movies = movies.merge(credits, on='title')"
      ]
    },
    {
      "cell_type": "code",
      "execution_count": 59,
      "metadata": {
        "id": "pK8k36qCvoQt"
      },
      "outputs": [
        {
          "data": {
            "text/plain": [
              "(4809, 23)"
            ]
          },
          "execution_count": 59,
          "metadata": {},
          "output_type": "execute_result"
        }
      ],
      "source": [
        "# After merge Shape of the Movie dataset\n",
        "movies.shape\n"
      ]
    },
    {
      "cell_type": "code",
      "execution_count": 60,
      "metadata": {
        "id": "Zppuxiwn2v8v"
      },
      "outputs": [
        {
          "name": "stdout",
          "output_type": "stream",
          "text": [
            "<class 'pandas.core.frame.DataFrame'>\n",
            "RangeIndex: 4809 entries, 0 to 4808\n",
            "Data columns (total 23 columns):\n",
            " #   Column                Non-Null Count  Dtype  \n",
            "---  ------                --------------  -----  \n",
            " 0   budget                4809 non-null   int64  \n",
            " 1   genres                4809 non-null   object \n",
            " 2   homepage              1713 non-null   object \n",
            " 3   id                    4809 non-null   int64  \n",
            " 4   keywords              4809 non-null   object \n",
            " 5   original_language     4809 non-null   object \n",
            " 6   original_title        4809 non-null   object \n",
            " 7   overview              4806 non-null   object \n",
            " 8   popularity            4809 non-null   float64\n",
            " 9   production_companies  4809 non-null   object \n",
            " 10  production_countries  4809 non-null   object \n",
            " 11  release_date          4808 non-null   object \n",
            " 12  revenue               4809 non-null   int64  \n",
            " 13  runtime               4807 non-null   float64\n",
            " 14  spoken_languages      4809 non-null   object \n",
            " 15  status                4809 non-null   object \n",
            " 16  tagline               3965 non-null   object \n",
            " 17  title                 4809 non-null   object \n",
            " 18  vote_average          4809 non-null   float64\n",
            " 19  vote_count            4809 non-null   int64  \n",
            " 20  movie_id              4809 non-null   int64  \n",
            " 21  cast                  4809 non-null   object \n",
            " 22  crew                  4809 non-null   object \n",
            "dtypes: float64(3), int64(5), object(15)\n",
            "memory usage: 864.2+ KB\n"
          ]
        }
      ],
      "source": [
        "movies.info()"
      ]
    },
    {
      "cell_type": "code",
      "execution_count": 61,
      "metadata": {
        "id": "83iUd2PLpCam"
      },
      "outputs": [],
      "source": [
        "# Remove unnecessary columns from the 'movies' DataFrame\n",
        "# We want to keep only these columns: 'movie_id', 'title', 'overview', 'genres', 'keywords', 'cast', 'crew'\n",
        "movies = movies[['movie_id', 'title', 'overview', 'genres', 'keywords', 'cast', 'crew']]\n"
      ]
    },
    {
      "cell_type": "code",
      "execution_count": 62,
      "metadata": {
        "id": "Eby6nhr86OmU"
      },
      "outputs": [
        {
          "data": {
            "text/html": [
              "<div>\n",
              "<style scoped>\n",
              "    .dataframe tbody tr th:only-of-type {\n",
              "        vertical-align: middle;\n",
              "    }\n",
              "\n",
              "    .dataframe tbody tr th {\n",
              "        vertical-align: top;\n",
              "    }\n",
              "\n",
              "    .dataframe thead th {\n",
              "        text-align: right;\n",
              "    }\n",
              "</style>\n",
              "<table border=\"1\" class=\"dataframe\">\n",
              "  <thead>\n",
              "    <tr style=\"text-align: right;\">\n",
              "      <th></th>\n",
              "      <th>movie_id</th>\n",
              "      <th>title</th>\n",
              "      <th>overview</th>\n",
              "      <th>genres</th>\n",
              "      <th>keywords</th>\n",
              "      <th>cast</th>\n",
              "      <th>crew</th>\n",
              "    </tr>\n",
              "  </thead>\n",
              "  <tbody>\n",
              "    <tr>\n",
              "      <th>0</th>\n",
              "      <td>19995</td>\n",
              "      <td>Avatar</td>\n",
              "      <td>In the 22nd century, a paraplegic Marine is di...</td>\n",
              "      <td>[{\"id\": 28, \"name\": \"Action\"}, {\"id\": 12, \"nam...</td>\n",
              "      <td>[{\"id\": 1463, \"name\": \"culture clash\"}, {\"id\":...</td>\n",
              "      <td>[{\"cast_id\": 242, \"character\": \"Jake Sully\", \"...</td>\n",
              "      <td>[{\"credit_id\": \"52fe48009251416c750aca23\", \"de...</td>\n",
              "    </tr>\n",
              "    <tr>\n",
              "      <th>1</th>\n",
              "      <td>285</td>\n",
              "      <td>Pirates of the Caribbean: At World's End</td>\n",
              "      <td>Captain Barbossa, long believed to be dead, ha...</td>\n",
              "      <td>[{\"id\": 12, \"name\": \"Adventure\"}, {\"id\": 14, \"...</td>\n",
              "      <td>[{\"id\": 270, \"name\": \"ocean\"}, {\"id\": 726, \"na...</td>\n",
              "      <td>[{\"cast_id\": 4, \"character\": \"Captain Jack Spa...</td>\n",
              "      <td>[{\"credit_id\": \"52fe4232c3a36847f800b579\", \"de...</td>\n",
              "    </tr>\n",
              "    <tr>\n",
              "      <th>2</th>\n",
              "      <td>206647</td>\n",
              "      <td>Spectre</td>\n",
              "      <td>A cryptic message from Bond’s past sends him o...</td>\n",
              "      <td>[{\"id\": 28, \"name\": \"Action\"}, {\"id\": 12, \"nam...</td>\n",
              "      <td>[{\"id\": 470, \"name\": \"spy\"}, {\"id\": 818, \"name...</td>\n",
              "      <td>[{\"cast_id\": 1, \"character\": \"James Bond\", \"cr...</td>\n",
              "      <td>[{\"credit_id\": \"54805967c3a36829b5002c41\", \"de...</td>\n",
              "    </tr>\n",
              "    <tr>\n",
              "      <th>3</th>\n",
              "      <td>49026</td>\n",
              "      <td>The Dark Knight Rises</td>\n",
              "      <td>Following the death of District Attorney Harve...</td>\n",
              "      <td>[{\"id\": 28, \"name\": \"Action\"}, {\"id\": 80, \"nam...</td>\n",
              "      <td>[{\"id\": 849, \"name\": \"dc comics\"}, {\"id\": 853,...</td>\n",
              "      <td>[{\"cast_id\": 2, \"character\": \"Bruce Wayne / Ba...</td>\n",
              "      <td>[{\"credit_id\": \"52fe4781c3a36847f81398c3\", \"de...</td>\n",
              "    </tr>\n",
              "    <tr>\n",
              "      <th>4</th>\n",
              "      <td>49529</td>\n",
              "      <td>John Carter</td>\n",
              "      <td>John Carter is a war-weary, former military ca...</td>\n",
              "      <td>[{\"id\": 28, \"name\": \"Action\"}, {\"id\": 12, \"nam...</td>\n",
              "      <td>[{\"id\": 818, \"name\": \"based on novel\"}, {\"id\":...</td>\n",
              "      <td>[{\"cast_id\": 5, \"character\": \"John Carter\", \"c...</td>\n",
              "      <td>[{\"credit_id\": \"52fe479ac3a36847f813eaa3\", \"de...</td>\n",
              "    </tr>\n",
              "  </tbody>\n",
              "</table>\n",
              "</div>"
            ],
            "text/plain": [
              "   movie_id                                     title  \\\n",
              "0     19995                                    Avatar   \n",
              "1       285  Pirates of the Caribbean: At World's End   \n",
              "2    206647                                   Spectre   \n",
              "3     49026                     The Dark Knight Rises   \n",
              "4     49529                               John Carter   \n",
              "\n",
              "                                            overview  \\\n",
              "0  In the 22nd century, a paraplegic Marine is di...   \n",
              "1  Captain Barbossa, long believed to be dead, ha...   \n",
              "2  A cryptic message from Bond’s past sends him o...   \n",
              "3  Following the death of District Attorney Harve...   \n",
              "4  John Carter is a war-weary, former military ca...   \n",
              "\n",
              "                                              genres  \\\n",
              "0  [{\"id\": 28, \"name\": \"Action\"}, {\"id\": 12, \"nam...   \n",
              "1  [{\"id\": 12, \"name\": \"Adventure\"}, {\"id\": 14, \"...   \n",
              "2  [{\"id\": 28, \"name\": \"Action\"}, {\"id\": 12, \"nam...   \n",
              "3  [{\"id\": 28, \"name\": \"Action\"}, {\"id\": 80, \"nam...   \n",
              "4  [{\"id\": 28, \"name\": \"Action\"}, {\"id\": 12, \"nam...   \n",
              "\n",
              "                                            keywords  \\\n",
              "0  [{\"id\": 1463, \"name\": \"culture clash\"}, {\"id\":...   \n",
              "1  [{\"id\": 270, \"name\": \"ocean\"}, {\"id\": 726, \"na...   \n",
              "2  [{\"id\": 470, \"name\": \"spy\"}, {\"id\": 818, \"name...   \n",
              "3  [{\"id\": 849, \"name\": \"dc comics\"}, {\"id\": 853,...   \n",
              "4  [{\"id\": 818, \"name\": \"based on novel\"}, {\"id\":...   \n",
              "\n",
              "                                                cast  \\\n",
              "0  [{\"cast_id\": 242, \"character\": \"Jake Sully\", \"...   \n",
              "1  [{\"cast_id\": 4, \"character\": \"Captain Jack Spa...   \n",
              "2  [{\"cast_id\": 1, \"character\": \"James Bond\", \"cr...   \n",
              "3  [{\"cast_id\": 2, \"character\": \"Bruce Wayne / Ba...   \n",
              "4  [{\"cast_id\": 5, \"character\": \"John Carter\", \"c...   \n",
              "\n",
              "                                                crew  \n",
              "0  [{\"credit_id\": \"52fe48009251416c750aca23\", \"de...  \n",
              "1  [{\"credit_id\": \"52fe4232c3a36847f800b579\", \"de...  \n",
              "2  [{\"credit_id\": \"54805967c3a36829b5002c41\", \"de...  \n",
              "3  [{\"credit_id\": \"52fe4781c3a36847f81398c3\", \"de...  \n",
              "4  [{\"credit_id\": \"52fe479ac3a36847f813eaa3\", \"de...  "
            ]
          },
          "execution_count": 62,
          "metadata": {},
          "output_type": "execute_result"
        }
      ],
      "source": [
        "movies.head()"
      ]
    },
    {
      "cell_type": "code",
      "execution_count": 63,
      "metadata": {
        "id": "5FHE8FPt8MSU"
      },
      "outputs": [
        {
          "data": {
            "text/plain": [
              "movie_id    0\n",
              "title       0\n",
              "overview    3\n",
              "genres      0\n",
              "keywords    0\n",
              "cast        0\n",
              "crew        0\n",
              "dtype: int64"
            ]
          },
          "execution_count": 63,
          "metadata": {},
          "output_type": "execute_result"
        }
      ],
      "source": [
        "#Check the missing  value\n",
        "movies.isnull().sum()"
      ]
    },
    {
      "cell_type": "code",
      "execution_count": 64,
      "metadata": {
        "id": "dnSGxgZN8PUn"
      },
      "outputs": [],
      "source": [
        "## remved the Null value from dataset\n",
        "movies.dropna(inplace=True)"
      ]
    },
    {
      "cell_type": "code",
      "execution_count": 65,
      "metadata": {
        "id": "QhpQqX238jiN"
      },
      "outputs": [
        {
          "data": {
            "text/plain": [
              "0"
            ]
          },
          "execution_count": 65,
          "metadata": {},
          "output_type": "execute_result"
        }
      ],
      "source": [
        "#Check the Duplicate  value from data set\n",
        "movies.duplicated().sum()"
      ]
    },
    {
      "cell_type": "code",
      "execution_count": 66,
      "metadata": {
        "id": "heRJDaGf8_Ne"
      },
      "outputs": [
        {
          "data": {
            "text/plain": [
              "'[{\"id\": 28, \"name\": \"Action\"}, {\"id\": 12, \"name\": \"Adventure\"}, {\"id\": 14, \"name\": \"Fantasy\"}, {\"id\": 878, \"name\": \"Science Fiction\"}]'"
            ]
          },
          "execution_count": 66,
          "metadata": {},
          "output_type": "execute_result"
        }
      ],
      "source": [
        "#Check the value of Movies column  genres\n",
        "movies.iloc[0].genres"
      ]
    },
    {
      "cell_type": "code",
      "execution_count": 67,
      "metadata": {
        "id": "i2JmWr7r_CYn"
      },
      "outputs": [],
      "source": [
        "def convert(obj):\n",
        "    \"\"\"\n",
        "    This function takes a string representation of a list of dictionaries,\n",
        "    converts it into an actual list of dictionaries, and then extracts the 'name'\n",
        "    field from each dictionary to create a list of names.\n",
        "\n",
        "    Args:\n",
        "        obj (str): A string representation of a list of dictionaries.\n",
        "\n",
        "    Returns:\n",
        "        list: A list containing the 'name' values from each dictionary.\n",
        "    \"\"\"\n",
        "    List = []  # Create an empty list to store the names.\n",
        "\n",
        "    # Convert the string representation of the list into an actual list of dictionaries.\n",
        "    for i in ast.literal_eval(obj):\n",
        "        # Extract the 'name' field from each dictionary and add it to the List.\n",
        "        List.append(i['name'])\n",
        "\n",
        "    # Return the list of names.\n",
        "    return List\n"
      ]
    },
    {
      "cell_type": "code",
      "execution_count": 68,
      "metadata": {
        "id": "DWoEijYR_0Nm"
      },
      "outputs": [],
      "source": [
        "# Apply the convert function to the 'genres' column\n",
        "# For each row in the 'genres' column, it converts the string into a list of names\n",
        "movies['genres'] = movies['genres'].apply(convert)\n",
        "\n",
        "# Apply the convert function to the 'keywords' column\n",
        "# For each row in the 'keywords' column, it converts the string into a list of names\n",
        "movies['keywords'] = movies['keywords'].apply(convert)\n"
      ]
    },
    {
      "cell_type": "code",
      "execution_count": 69,
      "metadata": {
        "id": "Bh7hiloiKozl"
      },
      "outputs": [],
      "source": [
        "def convert3(obj):\n",
        "    \"\"\"\n",
        "    This function takes a string representation of a list of dictionaries,\n",
        "    converts it into an actual list of dictionaries, and then extracts the 'name'\n",
        "    field from each dictionary to create a list of names. It only adds up to three names.\n",
        "\n",
        "    Args:\n",
        "        obj (str): A string representation of a list of dictionaries.\n",
        "\n",
        "    Returns:\n",
        "        list: A list containing up to three 'name' values from each dictionary.\n",
        "    \"\"\"\n",
        "    counter = 0  # Initialize a counter to keep track of the number of names added.\n",
        "    List = []  # Create an empty list to store the names.\n",
        "\n",
        "    # Convert the string representation of the list into an actual list of dictionaries.\n",
        "    for i in ast.literal_eval(obj):\n",
        "        # Extract the 'name' field from each dictionary and add it to the List.\n",
        "        if counter != 3:  # Check if the counter has reached three.\n",
        "            List.append(i['name'])  # Add the 'name' to the list.\n",
        "            counter += 1  # Increment the counter.\n",
        "        else:\n",
        "            break  # If three names have been added, exit the loop.\n",
        "\n",
        "    # Return the list of names.\n",
        "    return List"
      ]
    },
    {
      "cell_type": "code",
      "execution_count": 70,
      "metadata": {
        "id": "EkrZg-s4LxfV"
      },
      "outputs": [
        {
          "data": {
            "text/html": [
              "<div>\n",
              "<style scoped>\n",
              "    .dataframe tbody tr th:only-of-type {\n",
              "        vertical-align: middle;\n",
              "    }\n",
              "\n",
              "    .dataframe tbody tr th {\n",
              "        vertical-align: top;\n",
              "    }\n",
              "\n",
              "    .dataframe thead th {\n",
              "        text-align: right;\n",
              "    }\n",
              "</style>\n",
              "<table border=\"1\" class=\"dataframe\">\n",
              "  <thead>\n",
              "    <tr style=\"text-align: right;\">\n",
              "      <th></th>\n",
              "      <th>movie_id</th>\n",
              "      <th>title</th>\n",
              "      <th>overview</th>\n",
              "      <th>genres</th>\n",
              "      <th>keywords</th>\n",
              "      <th>cast</th>\n",
              "      <th>crew</th>\n",
              "    </tr>\n",
              "  </thead>\n",
              "  <tbody>\n",
              "    <tr>\n",
              "      <th>0</th>\n",
              "      <td>19995</td>\n",
              "      <td>Avatar</td>\n",
              "      <td>In the 22nd century, a paraplegic Marine is di...</td>\n",
              "      <td>[Action, Adventure, Fantasy, Science Fiction]</td>\n",
              "      <td>[culture clash, future, space war, space colon...</td>\n",
              "      <td>[Sam Worthington, Zoe Saldana, Sigourney Weaver]</td>\n",
              "      <td>[{\"credit_id\": \"52fe48009251416c750aca23\", \"de...</td>\n",
              "    </tr>\n",
              "    <tr>\n",
              "      <th>1</th>\n",
              "      <td>285</td>\n",
              "      <td>Pirates of the Caribbean: At World's End</td>\n",
              "      <td>Captain Barbossa, long believed to be dead, ha...</td>\n",
              "      <td>[Adventure, Fantasy, Action]</td>\n",
              "      <td>[ocean, drug abuse, exotic island, east india ...</td>\n",
              "      <td>[Johnny Depp, Orlando Bloom, Keira Knightley]</td>\n",
              "      <td>[{\"credit_id\": \"52fe4232c3a36847f800b579\", \"de...</td>\n",
              "    </tr>\n",
              "    <tr>\n",
              "      <th>2</th>\n",
              "      <td>206647</td>\n",
              "      <td>Spectre</td>\n",
              "      <td>A cryptic message from Bond’s past sends him o...</td>\n",
              "      <td>[Action, Adventure, Crime]</td>\n",
              "      <td>[spy, based on novel, secret agent, sequel, mi...</td>\n",
              "      <td>[Daniel Craig, Christoph Waltz, Léa Seydoux]</td>\n",
              "      <td>[{\"credit_id\": \"54805967c3a36829b5002c41\", \"de...</td>\n",
              "    </tr>\n",
              "    <tr>\n",
              "      <th>3</th>\n",
              "      <td>49026</td>\n",
              "      <td>The Dark Knight Rises</td>\n",
              "      <td>Following the death of District Attorney Harve...</td>\n",
              "      <td>[Action, Crime, Drama, Thriller]</td>\n",
              "      <td>[dc comics, crime fighter, terrorist, secret i...</td>\n",
              "      <td>[Christian Bale, Michael Caine, Gary Oldman]</td>\n",
              "      <td>[{\"credit_id\": \"52fe4781c3a36847f81398c3\", \"de...</td>\n",
              "    </tr>\n",
              "    <tr>\n",
              "      <th>4</th>\n",
              "      <td>49529</td>\n",
              "      <td>John Carter</td>\n",
              "      <td>John Carter is a war-weary, former military ca...</td>\n",
              "      <td>[Action, Adventure, Science Fiction]</td>\n",
              "      <td>[based on novel, mars, medallion, space travel...</td>\n",
              "      <td>[Taylor Kitsch, Lynn Collins, Samantha Morton]</td>\n",
              "      <td>[{\"credit_id\": \"52fe479ac3a36847f813eaa3\", \"de...</td>\n",
              "    </tr>\n",
              "  </tbody>\n",
              "</table>\n",
              "</div>"
            ],
            "text/plain": [
              "   movie_id                                     title  \\\n",
              "0     19995                                    Avatar   \n",
              "1       285  Pirates of the Caribbean: At World's End   \n",
              "2    206647                                   Spectre   \n",
              "3     49026                     The Dark Knight Rises   \n",
              "4     49529                               John Carter   \n",
              "\n",
              "                                            overview  \\\n",
              "0  In the 22nd century, a paraplegic Marine is di...   \n",
              "1  Captain Barbossa, long believed to be dead, ha...   \n",
              "2  A cryptic message from Bond’s past sends him o...   \n",
              "3  Following the death of District Attorney Harve...   \n",
              "4  John Carter is a war-weary, former military ca...   \n",
              "\n",
              "                                          genres  \\\n",
              "0  [Action, Adventure, Fantasy, Science Fiction]   \n",
              "1                   [Adventure, Fantasy, Action]   \n",
              "2                     [Action, Adventure, Crime]   \n",
              "3               [Action, Crime, Drama, Thriller]   \n",
              "4           [Action, Adventure, Science Fiction]   \n",
              "\n",
              "                                            keywords  \\\n",
              "0  [culture clash, future, space war, space colon...   \n",
              "1  [ocean, drug abuse, exotic island, east india ...   \n",
              "2  [spy, based on novel, secret agent, sequel, mi...   \n",
              "3  [dc comics, crime fighter, terrorist, secret i...   \n",
              "4  [based on novel, mars, medallion, space travel...   \n",
              "\n",
              "                                               cast  \\\n",
              "0  [Sam Worthington, Zoe Saldana, Sigourney Weaver]   \n",
              "1     [Johnny Depp, Orlando Bloom, Keira Knightley]   \n",
              "2      [Daniel Craig, Christoph Waltz, Léa Seydoux]   \n",
              "3      [Christian Bale, Michael Caine, Gary Oldman]   \n",
              "4    [Taylor Kitsch, Lynn Collins, Samantha Morton]   \n",
              "\n",
              "                                                crew  \n",
              "0  [{\"credit_id\": \"52fe48009251416c750aca23\", \"de...  \n",
              "1  [{\"credit_id\": \"52fe4232c3a36847f800b579\", \"de...  \n",
              "2  [{\"credit_id\": \"54805967c3a36829b5002c41\", \"de...  \n",
              "3  [{\"credit_id\": \"52fe4781c3a36847f81398c3\", \"de...  \n",
              "4  [{\"credit_id\": \"52fe479ac3a36847f813eaa3\", \"de...  "
            ]
          },
          "execution_count": 70,
          "metadata": {},
          "output_type": "execute_result"
        }
      ],
      "source": [
        "#Use Contert3 Function and Every movie  first 3 acter name add\n",
        "movies['cast']= movies['cast'].apply(convert3)\n",
        "movies.head()"
      ]
    },
    {
      "cell_type": "code",
      "execution_count": 71,
      "metadata": {
        "id": "_OjJXPVZOMKL"
      },
      "outputs": [],
      "source": [
        "\n",
        "def fetch_director(obj):\n",
        "    \"\"\"\n",
        "    This function takes a string representation of a list of dictionaries,\n",
        "    converts it into an actual list of dictionaries, and then extracts the 'name'\n",
        "    of the person whose job is 'Director'.\n",
        "\n",
        "    Args:\n",
        "        obj (str): A string representation of a list of dictionaries.\n",
        "\n",
        "    Returns:\n",
        "        list: A list containing the name of the 'Director'. If no director is found, the list will be empty.\n",
        "    \"\"\"\n",
        "    List = []  # Create an empty list to store the director's name.\n",
        "\n",
        "    # Convert the string representation of the list into an actual list of dictionaries.\n",
        "    for i in ast.literal_eval(obj):\n",
        "        # Check if the 'job' field is 'Director'.\n",
        "        if i['job'] == 'Director':\n",
        "            List.append(i['name'])  # Add the director's name to the list.\n",
        "            break  # Stop the loop after finding the director.\n",
        "\n",
        "    # Return the list containing the director's name.\n",
        "    return List"
      ]
    },
    {
      "cell_type": "code",
      "execution_count": 72,
      "metadata": {
        "id": "C_uBGnqaO-SA"
      },
      "outputs": [
        {
          "data": {
            "text/html": [
              "<div>\n",
              "<style scoped>\n",
              "    .dataframe tbody tr th:only-of-type {\n",
              "        vertical-align: middle;\n",
              "    }\n",
              "\n",
              "    .dataframe tbody tr th {\n",
              "        vertical-align: top;\n",
              "    }\n",
              "\n",
              "    .dataframe thead th {\n",
              "        text-align: right;\n",
              "    }\n",
              "</style>\n",
              "<table border=\"1\" class=\"dataframe\">\n",
              "  <thead>\n",
              "    <tr style=\"text-align: right;\">\n",
              "      <th></th>\n",
              "      <th>movie_id</th>\n",
              "      <th>title</th>\n",
              "      <th>overview</th>\n",
              "      <th>genres</th>\n",
              "      <th>keywords</th>\n",
              "      <th>cast</th>\n",
              "      <th>crew</th>\n",
              "    </tr>\n",
              "  </thead>\n",
              "  <tbody>\n",
              "    <tr>\n",
              "      <th>0</th>\n",
              "      <td>19995</td>\n",
              "      <td>Avatar</td>\n",
              "      <td>In the 22nd century, a paraplegic Marine is di...</td>\n",
              "      <td>[Action, Adventure, Fantasy, Science Fiction]</td>\n",
              "      <td>[culture clash, future, space war, space colon...</td>\n",
              "      <td>[Sam Worthington, Zoe Saldana, Sigourney Weaver]</td>\n",
              "      <td>[James Cameron]</td>\n",
              "    </tr>\n",
              "    <tr>\n",
              "      <th>1</th>\n",
              "      <td>285</td>\n",
              "      <td>Pirates of the Caribbean: At World's End</td>\n",
              "      <td>Captain Barbossa, long believed to be dead, ha...</td>\n",
              "      <td>[Adventure, Fantasy, Action]</td>\n",
              "      <td>[ocean, drug abuse, exotic island, east india ...</td>\n",
              "      <td>[Johnny Depp, Orlando Bloom, Keira Knightley]</td>\n",
              "      <td>[Gore Verbinski]</td>\n",
              "    </tr>\n",
              "    <tr>\n",
              "      <th>2</th>\n",
              "      <td>206647</td>\n",
              "      <td>Spectre</td>\n",
              "      <td>A cryptic message from Bond’s past sends him o...</td>\n",
              "      <td>[Action, Adventure, Crime]</td>\n",
              "      <td>[spy, based on novel, secret agent, sequel, mi...</td>\n",
              "      <td>[Daniel Craig, Christoph Waltz, Léa Seydoux]</td>\n",
              "      <td>[Sam Mendes]</td>\n",
              "    </tr>\n",
              "    <tr>\n",
              "      <th>3</th>\n",
              "      <td>49026</td>\n",
              "      <td>The Dark Knight Rises</td>\n",
              "      <td>Following the death of District Attorney Harve...</td>\n",
              "      <td>[Action, Crime, Drama, Thriller]</td>\n",
              "      <td>[dc comics, crime fighter, terrorist, secret i...</td>\n",
              "      <td>[Christian Bale, Michael Caine, Gary Oldman]</td>\n",
              "      <td>[Christopher Nolan]</td>\n",
              "    </tr>\n",
              "    <tr>\n",
              "      <th>4</th>\n",
              "      <td>49529</td>\n",
              "      <td>John Carter</td>\n",
              "      <td>John Carter is a war-weary, former military ca...</td>\n",
              "      <td>[Action, Adventure, Science Fiction]</td>\n",
              "      <td>[based on novel, mars, medallion, space travel...</td>\n",
              "      <td>[Taylor Kitsch, Lynn Collins, Samantha Morton]</td>\n",
              "      <td>[Andrew Stanton]</td>\n",
              "    </tr>\n",
              "  </tbody>\n",
              "</table>\n",
              "</div>"
            ],
            "text/plain": [
              "   movie_id                                     title  \\\n",
              "0     19995                                    Avatar   \n",
              "1       285  Pirates of the Caribbean: At World's End   \n",
              "2    206647                                   Spectre   \n",
              "3     49026                     The Dark Knight Rises   \n",
              "4     49529                               John Carter   \n",
              "\n",
              "                                            overview  \\\n",
              "0  In the 22nd century, a paraplegic Marine is di...   \n",
              "1  Captain Barbossa, long believed to be dead, ha...   \n",
              "2  A cryptic message from Bond’s past sends him o...   \n",
              "3  Following the death of District Attorney Harve...   \n",
              "4  John Carter is a war-weary, former military ca...   \n",
              "\n",
              "                                          genres  \\\n",
              "0  [Action, Adventure, Fantasy, Science Fiction]   \n",
              "1                   [Adventure, Fantasy, Action]   \n",
              "2                     [Action, Adventure, Crime]   \n",
              "3               [Action, Crime, Drama, Thriller]   \n",
              "4           [Action, Adventure, Science Fiction]   \n",
              "\n",
              "                                            keywords  \\\n",
              "0  [culture clash, future, space war, space colon...   \n",
              "1  [ocean, drug abuse, exotic island, east india ...   \n",
              "2  [spy, based on novel, secret agent, sequel, mi...   \n",
              "3  [dc comics, crime fighter, terrorist, secret i...   \n",
              "4  [based on novel, mars, medallion, space travel...   \n",
              "\n",
              "                                               cast                 crew  \n",
              "0  [Sam Worthington, Zoe Saldana, Sigourney Weaver]      [James Cameron]  \n",
              "1     [Johnny Depp, Orlando Bloom, Keira Knightley]     [Gore Verbinski]  \n",
              "2      [Daniel Craig, Christoph Waltz, Léa Seydoux]         [Sam Mendes]  \n",
              "3      [Christian Bale, Michael Caine, Gary Oldman]  [Christopher Nolan]  \n",
              "4    [Taylor Kitsch, Lynn Collins, Samantha Morton]     [Andrew Stanton]  "
            ]
          },
          "execution_count": 72,
          "metadata": {},
          "output_type": "execute_result"
        }
      ],
      "source": [
        "movies['crew'] = movies['crew'].apply(fetch_director)\n",
        "movies.head()"
      ]
    },
    {
      "cell_type": "code",
      "execution_count": 73,
      "metadata": {
        "id": "NngswlpsQ-kk"
      },
      "outputs": [],
      "source": [
        "#Overview  column is Strining convert string convert  into list\n",
        "movies['overview'] = movies['overview'].apply(lambda x:x.split())"
      ]
    },
    {
      "cell_type": "code",
      "execution_count": 74,
      "metadata": {
        "id": "07QI0g56pYfh"
      },
      "outputs": [],
      "source": [
        "#remved the space blw words of list\n",
        "movies['genres'] = movies['genres'].apply(lambda x:[i.replace(\" \",\"\") for i in x])\n",
        "movies['keywords'] = movies['keywords'].apply(lambda x:[i.replace(\" \",\"\") for i in x])\n",
        "movies['cast'] = movies['cast'].apply(lambda x:[i.replace(\" \",\"\") for i in x])\n",
        "movies['crew'] = movies['crew'].apply(lambda x:[i.replace(\" \",\"\") for i in x])\n"
      ]
    },
    {
      "cell_type": "code",
      "execution_count": 75,
      "metadata": {
        "id": "xdEFfImkvz83"
      },
      "outputs": [
        {
          "data": {
            "text/html": [
              "<div>\n",
              "<style scoped>\n",
              "    .dataframe tbody tr th:only-of-type {\n",
              "        vertical-align: middle;\n",
              "    }\n",
              "\n",
              "    .dataframe tbody tr th {\n",
              "        vertical-align: top;\n",
              "    }\n",
              "\n",
              "    .dataframe thead th {\n",
              "        text-align: right;\n",
              "    }\n",
              "</style>\n",
              "<table border=\"1\" class=\"dataframe\">\n",
              "  <thead>\n",
              "    <tr style=\"text-align: right;\">\n",
              "      <th></th>\n",
              "      <th>movie_id</th>\n",
              "      <th>title</th>\n",
              "      <th>overview</th>\n",
              "      <th>genres</th>\n",
              "      <th>keywords</th>\n",
              "      <th>cast</th>\n",
              "      <th>crew</th>\n",
              "    </tr>\n",
              "  </thead>\n",
              "  <tbody>\n",
              "    <tr>\n",
              "      <th>0</th>\n",
              "      <td>19995</td>\n",
              "      <td>Avatar</td>\n",
              "      <td>[In, the, 22nd, century,, a, paraplegic, Marin...</td>\n",
              "      <td>[Action, Adventure, Fantasy, ScienceFiction]</td>\n",
              "      <td>[cultureclash, future, spacewar, spacecolony, ...</td>\n",
              "      <td>[SamWorthington, ZoeSaldana, SigourneyWeaver]</td>\n",
              "      <td>[JamesCameron]</td>\n",
              "    </tr>\n",
              "    <tr>\n",
              "      <th>1</th>\n",
              "      <td>285</td>\n",
              "      <td>Pirates of the Caribbean: At World's End</td>\n",
              "      <td>[Captain, Barbossa,, long, believed, to, be, d...</td>\n",
              "      <td>[Adventure, Fantasy, Action]</td>\n",
              "      <td>[ocean, drugabuse, exoticisland, eastindiatrad...</td>\n",
              "      <td>[JohnnyDepp, OrlandoBloom, KeiraKnightley]</td>\n",
              "      <td>[GoreVerbinski]</td>\n",
              "    </tr>\n",
              "    <tr>\n",
              "      <th>2</th>\n",
              "      <td>206647</td>\n",
              "      <td>Spectre</td>\n",
              "      <td>[A, cryptic, message, from, Bond’s, past, send...</td>\n",
              "      <td>[Action, Adventure, Crime]</td>\n",
              "      <td>[spy, basedonnovel, secretagent, sequel, mi6, ...</td>\n",
              "      <td>[DanielCraig, ChristophWaltz, LéaSeydoux]</td>\n",
              "      <td>[SamMendes]</td>\n",
              "    </tr>\n",
              "    <tr>\n",
              "      <th>3</th>\n",
              "      <td>49026</td>\n",
              "      <td>The Dark Knight Rises</td>\n",
              "      <td>[Following, the, death, of, District, Attorney...</td>\n",
              "      <td>[Action, Crime, Drama, Thriller]</td>\n",
              "      <td>[dccomics, crimefighter, terrorist, secretiden...</td>\n",
              "      <td>[ChristianBale, MichaelCaine, GaryOldman]</td>\n",
              "      <td>[ChristopherNolan]</td>\n",
              "    </tr>\n",
              "    <tr>\n",
              "      <th>4</th>\n",
              "      <td>49529</td>\n",
              "      <td>John Carter</td>\n",
              "      <td>[John, Carter, is, a, war-weary,, former, mili...</td>\n",
              "      <td>[Action, Adventure, ScienceFiction]</td>\n",
              "      <td>[basedonnovel, mars, medallion, spacetravel, p...</td>\n",
              "      <td>[TaylorKitsch, LynnCollins, SamanthaMorton]</td>\n",
              "      <td>[AndrewStanton]</td>\n",
              "    </tr>\n",
              "  </tbody>\n",
              "</table>\n",
              "</div>"
            ],
            "text/plain": [
              "   movie_id                                     title  \\\n",
              "0     19995                                    Avatar   \n",
              "1       285  Pirates of the Caribbean: At World's End   \n",
              "2    206647                                   Spectre   \n",
              "3     49026                     The Dark Knight Rises   \n",
              "4     49529                               John Carter   \n",
              "\n",
              "                                            overview  \\\n",
              "0  [In, the, 22nd, century,, a, paraplegic, Marin...   \n",
              "1  [Captain, Barbossa,, long, believed, to, be, d...   \n",
              "2  [A, cryptic, message, from, Bond’s, past, send...   \n",
              "3  [Following, the, death, of, District, Attorney...   \n",
              "4  [John, Carter, is, a, war-weary,, former, mili...   \n",
              "\n",
              "                                         genres  \\\n",
              "0  [Action, Adventure, Fantasy, ScienceFiction]   \n",
              "1                  [Adventure, Fantasy, Action]   \n",
              "2                    [Action, Adventure, Crime]   \n",
              "3              [Action, Crime, Drama, Thriller]   \n",
              "4           [Action, Adventure, ScienceFiction]   \n",
              "\n",
              "                                            keywords  \\\n",
              "0  [cultureclash, future, spacewar, spacecolony, ...   \n",
              "1  [ocean, drugabuse, exoticisland, eastindiatrad...   \n",
              "2  [spy, basedonnovel, secretagent, sequel, mi6, ...   \n",
              "3  [dccomics, crimefighter, terrorist, secretiden...   \n",
              "4  [basedonnovel, mars, medallion, spacetravel, p...   \n",
              "\n",
              "                                            cast                crew  \n",
              "0  [SamWorthington, ZoeSaldana, SigourneyWeaver]      [JamesCameron]  \n",
              "1     [JohnnyDepp, OrlandoBloom, KeiraKnightley]     [GoreVerbinski]  \n",
              "2      [DanielCraig, ChristophWaltz, LéaSeydoux]         [SamMendes]  \n",
              "3      [ChristianBale, MichaelCaine, GaryOldman]  [ChristopherNolan]  \n",
              "4    [TaylorKitsch, LynnCollins, SamanthaMorton]     [AndrewStanton]  "
            ]
          },
          "execution_count": 75,
          "metadata": {},
          "output_type": "execute_result"
        }
      ],
      "source": [
        "movies.head()"
      ]
    },
    {
      "cell_type": "code",
      "execution_count": 76,
      "metadata": {
        "id": "5PcwC25oxtrM"
      },
      "outputs": [],
      "source": [
        "#Create New column name Tage Conncet this our colamn overview\tgenres\tkeywords\tcast\tcrew\n",
        "movies['tags'] = movies['overview'] + movies['genres'] + movies['keywords'] + movies['cast'] + movies['crew']"
      ]
    },
    {
      "cell_type": "code",
      "execution_count": 77,
      "metadata": {
        "id": "Xbtdf6nVzmVN"
      },
      "outputs": [
        {
          "data": {
            "text/html": [
              "<div>\n",
              "<style scoped>\n",
              "    .dataframe tbody tr th:only-of-type {\n",
              "        vertical-align: middle;\n",
              "    }\n",
              "\n",
              "    .dataframe tbody tr th {\n",
              "        vertical-align: top;\n",
              "    }\n",
              "\n",
              "    .dataframe thead th {\n",
              "        text-align: right;\n",
              "    }\n",
              "</style>\n",
              "<table border=\"1\" class=\"dataframe\">\n",
              "  <thead>\n",
              "    <tr style=\"text-align: right;\">\n",
              "      <th></th>\n",
              "      <th>movie_id</th>\n",
              "      <th>title</th>\n",
              "      <th>overview</th>\n",
              "      <th>genres</th>\n",
              "      <th>keywords</th>\n",
              "      <th>cast</th>\n",
              "      <th>crew</th>\n",
              "      <th>tags</th>\n",
              "    </tr>\n",
              "  </thead>\n",
              "  <tbody>\n",
              "    <tr>\n",
              "      <th>0</th>\n",
              "      <td>19995</td>\n",
              "      <td>Avatar</td>\n",
              "      <td>[In, the, 22nd, century,, a, paraplegic, Marin...</td>\n",
              "      <td>[Action, Adventure, Fantasy, ScienceFiction]</td>\n",
              "      <td>[cultureclash, future, spacewar, spacecolony, ...</td>\n",
              "      <td>[SamWorthington, ZoeSaldana, SigourneyWeaver]</td>\n",
              "      <td>[JamesCameron]</td>\n",
              "      <td>[In, the, 22nd, century,, a, paraplegic, Marin...</td>\n",
              "    </tr>\n",
              "    <tr>\n",
              "      <th>1</th>\n",
              "      <td>285</td>\n",
              "      <td>Pirates of the Caribbean: At World's End</td>\n",
              "      <td>[Captain, Barbossa,, long, believed, to, be, d...</td>\n",
              "      <td>[Adventure, Fantasy, Action]</td>\n",
              "      <td>[ocean, drugabuse, exoticisland, eastindiatrad...</td>\n",
              "      <td>[JohnnyDepp, OrlandoBloom, KeiraKnightley]</td>\n",
              "      <td>[GoreVerbinski]</td>\n",
              "      <td>[Captain, Barbossa,, long, believed, to, be, d...</td>\n",
              "    </tr>\n",
              "    <tr>\n",
              "      <th>2</th>\n",
              "      <td>206647</td>\n",
              "      <td>Spectre</td>\n",
              "      <td>[A, cryptic, message, from, Bond’s, past, send...</td>\n",
              "      <td>[Action, Adventure, Crime]</td>\n",
              "      <td>[spy, basedonnovel, secretagent, sequel, mi6, ...</td>\n",
              "      <td>[DanielCraig, ChristophWaltz, LéaSeydoux]</td>\n",
              "      <td>[SamMendes]</td>\n",
              "      <td>[A, cryptic, message, from, Bond’s, past, send...</td>\n",
              "    </tr>\n",
              "    <tr>\n",
              "      <th>3</th>\n",
              "      <td>49026</td>\n",
              "      <td>The Dark Knight Rises</td>\n",
              "      <td>[Following, the, death, of, District, Attorney...</td>\n",
              "      <td>[Action, Crime, Drama, Thriller]</td>\n",
              "      <td>[dccomics, crimefighter, terrorist, secretiden...</td>\n",
              "      <td>[ChristianBale, MichaelCaine, GaryOldman]</td>\n",
              "      <td>[ChristopherNolan]</td>\n",
              "      <td>[Following, the, death, of, District, Attorney...</td>\n",
              "    </tr>\n",
              "    <tr>\n",
              "      <th>4</th>\n",
              "      <td>49529</td>\n",
              "      <td>John Carter</td>\n",
              "      <td>[John, Carter, is, a, war-weary,, former, mili...</td>\n",
              "      <td>[Action, Adventure, ScienceFiction]</td>\n",
              "      <td>[basedonnovel, mars, medallion, spacetravel, p...</td>\n",
              "      <td>[TaylorKitsch, LynnCollins, SamanthaMorton]</td>\n",
              "      <td>[AndrewStanton]</td>\n",
              "      <td>[John, Carter, is, a, war-weary,, former, mili...</td>\n",
              "    </tr>\n",
              "  </tbody>\n",
              "</table>\n",
              "</div>"
            ],
            "text/plain": [
              "   movie_id                                     title  \\\n",
              "0     19995                                    Avatar   \n",
              "1       285  Pirates of the Caribbean: At World's End   \n",
              "2    206647                                   Spectre   \n",
              "3     49026                     The Dark Knight Rises   \n",
              "4     49529                               John Carter   \n",
              "\n",
              "                                            overview  \\\n",
              "0  [In, the, 22nd, century,, a, paraplegic, Marin...   \n",
              "1  [Captain, Barbossa,, long, believed, to, be, d...   \n",
              "2  [A, cryptic, message, from, Bond’s, past, send...   \n",
              "3  [Following, the, death, of, District, Attorney...   \n",
              "4  [John, Carter, is, a, war-weary,, former, mili...   \n",
              "\n",
              "                                         genres  \\\n",
              "0  [Action, Adventure, Fantasy, ScienceFiction]   \n",
              "1                  [Adventure, Fantasy, Action]   \n",
              "2                    [Action, Adventure, Crime]   \n",
              "3              [Action, Crime, Drama, Thriller]   \n",
              "4           [Action, Adventure, ScienceFiction]   \n",
              "\n",
              "                                            keywords  \\\n",
              "0  [cultureclash, future, spacewar, spacecolony, ...   \n",
              "1  [ocean, drugabuse, exoticisland, eastindiatrad...   \n",
              "2  [spy, basedonnovel, secretagent, sequel, mi6, ...   \n",
              "3  [dccomics, crimefighter, terrorist, secretiden...   \n",
              "4  [basedonnovel, mars, medallion, spacetravel, p...   \n",
              "\n",
              "                                            cast                crew  \\\n",
              "0  [SamWorthington, ZoeSaldana, SigourneyWeaver]      [JamesCameron]   \n",
              "1     [JohnnyDepp, OrlandoBloom, KeiraKnightley]     [GoreVerbinski]   \n",
              "2      [DanielCraig, ChristophWaltz, LéaSeydoux]         [SamMendes]   \n",
              "3      [ChristianBale, MichaelCaine, GaryOldman]  [ChristopherNolan]   \n",
              "4    [TaylorKitsch, LynnCollins, SamanthaMorton]     [AndrewStanton]   \n",
              "\n",
              "                                                tags  \n",
              "0  [In, the, 22nd, century,, a, paraplegic, Marin...  \n",
              "1  [Captain, Barbossa,, long, believed, to, be, d...  \n",
              "2  [A, cryptic, message, from, Bond’s, past, send...  \n",
              "3  [Following, the, death, of, District, Attorney...  \n",
              "4  [John, Carter, is, a, war-weary,, former, mili...  "
            ]
          },
          "execution_count": 77,
          "metadata": {},
          "output_type": "execute_result"
        }
      ],
      "source": [
        "movies.head()"
      ]
    },
    {
      "cell_type": "code",
      "execution_count": 78,
      "metadata": {
        "id": "yTxZX0Zvz3k1"
      },
      "outputs": [],
      "source": [
        "#Create new data\n",
        "new_df = movies[['movie_id', 'title', 'tags']]"
      ]
    },
    {
      "cell_type": "code",
      "execution_count": 79,
      "metadata": {
        "id": "_ezpVATEz9_m"
      },
      "outputs": [
        {
          "data": {
            "text/html": [
              "<div>\n",
              "<style scoped>\n",
              "    .dataframe tbody tr th:only-of-type {\n",
              "        vertical-align: middle;\n",
              "    }\n",
              "\n",
              "    .dataframe tbody tr th {\n",
              "        vertical-align: top;\n",
              "    }\n",
              "\n",
              "    .dataframe thead th {\n",
              "        text-align: right;\n",
              "    }\n",
              "</style>\n",
              "<table border=\"1\" class=\"dataframe\">\n",
              "  <thead>\n",
              "    <tr style=\"text-align: right;\">\n",
              "      <th></th>\n",
              "      <th>movie_id</th>\n",
              "      <th>title</th>\n",
              "      <th>tags</th>\n",
              "    </tr>\n",
              "  </thead>\n",
              "  <tbody>\n",
              "    <tr>\n",
              "      <th>0</th>\n",
              "      <td>19995</td>\n",
              "      <td>Avatar</td>\n",
              "      <td>[In, the, 22nd, century,, a, paraplegic, Marin...</td>\n",
              "    </tr>\n",
              "    <tr>\n",
              "      <th>1</th>\n",
              "      <td>285</td>\n",
              "      <td>Pirates of the Caribbean: At World's End</td>\n",
              "      <td>[Captain, Barbossa,, long, believed, to, be, d...</td>\n",
              "    </tr>\n",
              "    <tr>\n",
              "      <th>2</th>\n",
              "      <td>206647</td>\n",
              "      <td>Spectre</td>\n",
              "      <td>[A, cryptic, message, from, Bond’s, past, send...</td>\n",
              "    </tr>\n",
              "    <tr>\n",
              "      <th>3</th>\n",
              "      <td>49026</td>\n",
              "      <td>The Dark Knight Rises</td>\n",
              "      <td>[Following, the, death, of, District, Attorney...</td>\n",
              "    </tr>\n",
              "    <tr>\n",
              "      <th>4</th>\n",
              "      <td>49529</td>\n",
              "      <td>John Carter</td>\n",
              "      <td>[John, Carter, is, a, war-weary,, former, mili...</td>\n",
              "    </tr>\n",
              "  </tbody>\n",
              "</table>\n",
              "</div>"
            ],
            "text/plain": [
              "   movie_id                                     title  \\\n",
              "0     19995                                    Avatar   \n",
              "1       285  Pirates of the Caribbean: At World's End   \n",
              "2    206647                                   Spectre   \n",
              "3     49026                     The Dark Knight Rises   \n",
              "4     49529                               John Carter   \n",
              "\n",
              "                                                tags  \n",
              "0  [In, the, 22nd, century,, a, paraplegic, Marin...  \n",
              "1  [Captain, Barbossa,, long, believed, to, be, d...  \n",
              "2  [A, cryptic, message, from, Bond’s, past, send...  \n",
              "3  [Following, the, death, of, District, Attorney...  \n",
              "4  [John, Carter, is, a, war-weary,, former, mili...  "
            ]
          },
          "execution_count": 79,
          "metadata": {},
          "output_type": "execute_result"
        }
      ],
      "source": [
        "new_df.head()"
      ]
    },
    {
      "cell_type": "code",
      "execution_count": 80,
      "metadata": {
        "id": "Q7qMldS90HkO"
      },
      "outputs": [
        {
          "name": "stderr",
          "output_type": "stream",
          "text": [
            "C:\\Users\\Dell-pc\\AppData\\Local\\Temp\\ipykernel_7012\\1163398860.py:2: SettingWithCopyWarning: \n",
            "A value is trying to be set on a copy of a slice from a DataFrame.\n",
            "Try using .loc[row_indexer,col_indexer] = value instead\n",
            "\n",
            "See the caveats in the documentation: https://pandas.pydata.org/pandas-docs/stable/user_guide/indexing.html#returning-a-view-versus-a-copy\n",
            "  new_df['tags'] = new_df['tags'].apply(lambda x:\" \".join(x))\n"
          ]
        }
      ],
      "source": [
        "#Convert Tage Colunma in string\n",
        "new_df['tags'] = new_df['tags'].apply(lambda x:\" \".join(x))"
      ]
    },
    {
      "cell_type": "code",
      "execution_count": 81,
      "metadata": {
        "id": "vHB0lGxA0NI3"
      },
      "outputs": [
        {
          "data": {
            "text/html": [
              "<div>\n",
              "<style scoped>\n",
              "    .dataframe tbody tr th:only-of-type {\n",
              "        vertical-align: middle;\n",
              "    }\n",
              "\n",
              "    .dataframe tbody tr th {\n",
              "        vertical-align: top;\n",
              "    }\n",
              "\n",
              "    .dataframe thead th {\n",
              "        text-align: right;\n",
              "    }\n",
              "</style>\n",
              "<table border=\"1\" class=\"dataframe\">\n",
              "  <thead>\n",
              "    <tr style=\"text-align: right;\">\n",
              "      <th></th>\n",
              "      <th>movie_id</th>\n",
              "      <th>title</th>\n",
              "      <th>tags</th>\n",
              "    </tr>\n",
              "  </thead>\n",
              "  <tbody>\n",
              "    <tr>\n",
              "      <th>0</th>\n",
              "      <td>19995</td>\n",
              "      <td>Avatar</td>\n",
              "      <td>In the 22nd century, a paraplegic Marine is di...</td>\n",
              "    </tr>\n",
              "    <tr>\n",
              "      <th>1</th>\n",
              "      <td>285</td>\n",
              "      <td>Pirates of the Caribbean: At World's End</td>\n",
              "      <td>Captain Barbossa, long believed to be dead, ha...</td>\n",
              "    </tr>\n",
              "    <tr>\n",
              "      <th>2</th>\n",
              "      <td>206647</td>\n",
              "      <td>Spectre</td>\n",
              "      <td>A cryptic message from Bond’s past sends him o...</td>\n",
              "    </tr>\n",
              "    <tr>\n",
              "      <th>3</th>\n",
              "      <td>49026</td>\n",
              "      <td>The Dark Knight Rises</td>\n",
              "      <td>Following the death of District Attorney Harve...</td>\n",
              "    </tr>\n",
              "    <tr>\n",
              "      <th>4</th>\n",
              "      <td>49529</td>\n",
              "      <td>John Carter</td>\n",
              "      <td>John Carter is a war-weary, former military ca...</td>\n",
              "    </tr>\n",
              "  </tbody>\n",
              "</table>\n",
              "</div>"
            ],
            "text/plain": [
              "   movie_id                                     title  \\\n",
              "0     19995                                    Avatar   \n",
              "1       285  Pirates of the Caribbean: At World's End   \n",
              "2    206647                                   Spectre   \n",
              "3     49026                     The Dark Knight Rises   \n",
              "4     49529                               John Carter   \n",
              "\n",
              "                                                tags  \n",
              "0  In the 22nd century, a paraplegic Marine is di...  \n",
              "1  Captain Barbossa, long believed to be dead, ha...  \n",
              "2  A cryptic message from Bond’s past sends him o...  \n",
              "3  Following the death of District Attorney Harve...  \n",
              "4  John Carter is a war-weary, former military ca...  "
            ]
          },
          "execution_count": 81,
          "metadata": {},
          "output_type": "execute_result"
        }
      ],
      "source": [
        "new_df.head()"
      ]
    },
    {
      "cell_type": "code",
      "execution_count": 82,
      "metadata": {
        "id": "y8SjB7gu0dN2"
      },
      "outputs": [
        {
          "data": {
            "text/plain": [
              "'In the 22nd century, a paraplegic Marine is dispatched to the moon Pandora on a unique mission, but becomes torn between following orders and protecting an alien civilization. Action Adventure Fantasy ScienceFiction cultureclash future spacewar spacecolony society spacetravel futuristic romance space alien tribe alienplanet cgi marine soldier battle loveaffair antiwar powerrelations mindandsoul 3d SamWorthington ZoeSaldana SigourneyWeaver JamesCameron'"
            ]
          },
          "execution_count": 82,
          "metadata": {},
          "output_type": "execute_result"
        }
      ],
      "source": [
        "#Show the tage of 1 row\n",
        "new_df['tags'][0]"
      ]
    },
    {
      "cell_type": "code",
      "execution_count": 83,
      "metadata": {
        "id": "dV-oPgx-03ap"
      },
      "outputs": [
        {
          "data": {
            "text/html": [
              "<div>\n",
              "<style scoped>\n",
              "    .dataframe tbody tr th:only-of-type {\n",
              "        vertical-align: middle;\n",
              "    }\n",
              "\n",
              "    .dataframe tbody tr th {\n",
              "        vertical-align: top;\n",
              "    }\n",
              "\n",
              "    .dataframe thead th {\n",
              "        text-align: right;\n",
              "    }\n",
              "</style>\n",
              "<table border=\"1\" class=\"dataframe\">\n",
              "  <thead>\n",
              "    <tr style=\"text-align: right;\">\n",
              "      <th></th>\n",
              "      <th>movie_id</th>\n",
              "      <th>title</th>\n",
              "      <th>tags</th>\n",
              "    </tr>\n",
              "  </thead>\n",
              "  <tbody>\n",
              "    <tr>\n",
              "      <th>0</th>\n",
              "      <td>19995</td>\n",
              "      <td>Avatar</td>\n",
              "      <td>In the 22nd century, a paraplegic Marine is di...</td>\n",
              "    </tr>\n",
              "    <tr>\n",
              "      <th>1</th>\n",
              "      <td>285</td>\n",
              "      <td>Pirates of the Caribbean: At World's End</td>\n",
              "      <td>Captain Barbossa, long believed to be dead, ha...</td>\n",
              "    </tr>\n",
              "    <tr>\n",
              "      <th>2</th>\n",
              "      <td>206647</td>\n",
              "      <td>Spectre</td>\n",
              "      <td>A cryptic message from Bond’s past sends him o...</td>\n",
              "    </tr>\n",
              "    <tr>\n",
              "      <th>3</th>\n",
              "      <td>49026</td>\n",
              "      <td>The Dark Knight Rises</td>\n",
              "      <td>Following the death of District Attorney Harve...</td>\n",
              "    </tr>\n",
              "    <tr>\n",
              "      <th>4</th>\n",
              "      <td>49529</td>\n",
              "      <td>John Carter</td>\n",
              "      <td>John Carter is a war-weary, former military ca...</td>\n",
              "    </tr>\n",
              "  </tbody>\n",
              "</table>\n",
              "</div>"
            ],
            "text/plain": [
              "   movie_id                                     title  \\\n",
              "0     19995                                    Avatar   \n",
              "1       285  Pirates of the Caribbean: At World's End   \n",
              "2    206647                                   Spectre   \n",
              "3     49026                     The Dark Knight Rises   \n",
              "4     49529                               John Carter   \n",
              "\n",
              "                                                tags  \n",
              "0  In the 22nd century, a paraplegic Marine is di...  \n",
              "1  Captain Barbossa, long believed to be dead, ha...  \n",
              "2  A cryptic message from Bond’s past sends him o...  \n",
              "3  Following the death of District Attorney Harve...  \n",
              "4  John Carter is a war-weary, former military ca...  "
            ]
          },
          "execution_count": 83,
          "metadata": {},
          "output_type": "execute_result"
        }
      ],
      "source": [
        "new_df.head()"
      ]
    },
    {
      "cell_type": "code",
      "execution_count": 84,
      "metadata": {},
      "outputs": [
        {
          "data": {
            "text/plain": [
              "'A cryptic message from Bond’s past sends him on a trail to uncover a sinister organization. While M battles political forces to keep the secret service alive, Bond peels back the layers of deceit to reveal the terrible truth behind SPECTRE. Action Adventure Crime spy basedonnovel secretagent sequel mi6 britishsecretservice unitedkingdom DanielCraig ChristophWaltz LéaSeydoux SamMendes'"
            ]
          },
          "execution_count": 84,
          "metadata": {},
          "output_type": "execute_result"
        }
      ],
      "source": [
        "#show the Tage Raw atfter Text Preprocessing\n",
        "new_df['tags'][2]"
      ]
    },
    {
      "cell_type": "code",
      "execution_count": 85,
      "metadata": {},
      "outputs": [
        {
          "name": "stderr",
          "output_type": "stream",
          "text": [
            "[nltk_data] Downloading package stopwords to C:\\Users\\Dell-\n",
            "[nltk_data]     pc\\AppData\\Roaming\\nltk_data...\n",
            "[nltk_data]   Package stopwords is already up-to-date!\n",
            "[nltk_data] Downloading package wordnet to C:\\Users\\Dell-\n",
            "[nltk_data]     pc\\AppData\\Roaming\\nltk_data...\n",
            "[nltk_data]   Package wordnet is already up-to-date!\n"
          ]
        }
      ],
      "source": [
        "import pandas as pd\n",
        "import nltk\n",
        "from nltk.corpus import stopwords\n",
        "from nltk.stem import WordNetLemmatizer\n",
        "import string\n",
        "\n",
        "# Initialize NLTK resources (you may have done this already)\n",
        "nltk.download('stopwords')\n",
        "nltk.download('wordnet')\n",
        "\n",
        "# Initialize the WordNet Lemmatizer\n",
        "lemmatizer = WordNetLemmatizer()\n",
        "\n",
        "# Define stopwords as a set for faster membership testing\n",
        "stop_words = set(stopwords.words('english'))"
      ]
    },
    {
      "cell_type": "code",
      "execution_count": 86,
      "metadata": {},
      "outputs": [],
      "source": [
        "def preprocess_text(text):\n",
        "    \"\"\"\n",
        "    Preprocesses the input text by removing non-alphabetic characters, converting to lowercase,\n",
        "    removing stopwords, applying lemmatization, and joining back into a single string.\n",
        "\n",
        "    Args:\n",
        "        text (str): The input text to preprocess.\n",
        "\n",
        "    Returns:\n",
        "        str: The preprocessed text.\n",
        "    \"\"\"\n",
        "    # Remove punctuation and convert to lowercase\n",
        "    text = ''.join([char.lower() for char in text if char not in string.punctuation])\n",
        "\n",
        "    # Tokenize text into words\n",
        "    words = text.split()\n",
        "\n",
        "    # Remove stopwords and apply lemmatization\n",
        "    words = [lemmatizer.lemmatize(word) for word in words if word not in stop_words]\n",
        "\n",
        "    # Join words back into a single string\n",
        "    preprocessed_text = ' '.join(words)\n",
        "\n",
        "    return preprocessed_text"
      ]
    },
    {
      "cell_type": "code",
      "execution_count": 87,
      "metadata": {},
      "outputs": [
        {
          "name": "stdout",
          "output_type": "stream",
          "text": [
            "      movie_id                                     title  \\\n",
            "0        19995                                    Avatar   \n",
            "1          285  Pirates of the Caribbean: At World's End   \n",
            "2       206647                                   Spectre   \n",
            "3        49026                     The Dark Knight Rises   \n",
            "4        49529                               John Carter   \n",
            "...        ...                                       ...   \n",
            "4804      9367                               El Mariachi   \n",
            "4805     72766                                 Newlyweds   \n",
            "4806    231617                 Signed, Sealed, Delivered   \n",
            "4807    126186                          Shanghai Calling   \n",
            "4808     25975                         My Date with Drew   \n",
            "\n",
            "                                                   tags  \n",
            "0     22nd century paraplegic marine dispatched moon...  \n",
            "1     captain barbossa long believed dead come back ...  \n",
            "2     cryptic message bond’s past sends trail uncove...  \n",
            "3     following death district attorney harvey dent ...  \n",
            "4     john carter warweary former military captain w...  \n",
            "...                                                 ...  \n",
            "4804  el mariachi want play guitar carry family trad...  \n",
            "4805  newlywed couple honeymoon upended arrival resp...  \n",
            "4806  signed sealed delivered introduces dedicated q...  \n",
            "4807  ambitious new york attorney sam sent shanghai ...  \n",
            "4808  ever since second grade first saw et extraterr...  \n",
            "\n",
            "[4806 rows x 3 columns]\n"
          ]
        }
      ],
      "source": [
        "# Apply preprocess_text using .apply with .loc to avoid SettingWithCopyWarning\n",
        "new_df.loc[:, 'tags'] = new_df['tags'].apply(preprocess_text)\n",
        "\n",
        "# Print the updated DataFrame\n",
        "print(new_df)"
      ]
    },
    {
      "cell_type": "code",
      "execution_count": 88,
      "metadata": {
        "id": "iZXQ3mlmiGss"
      },
      "outputs": [
        {
          "data": {
            "text/plain": [
              "'22nd century paraplegic marine dispatched moon pandora unique mission becomes torn following order protecting alien civilization action adventure fantasy sciencefiction cultureclash future spacewar spacecolony society spacetravel futuristic romance space alien tribe alienplanet cgi marine soldier battle loveaffair antiwar powerrelations mindandsoul 3d samworthington zoesaldana sigourneyweaver jamescameron'"
            ]
          },
          "execution_count": 88,
          "metadata": {},
          "output_type": "execute_result"
        }
      ],
      "source": [
        "#show the Tage Raw atfter Text Preprocessing\n",
        "new_df['tags'][0]"
      ]
    },
    {
      "cell_type": "markdown",
      "metadata": {},
      "source": [
        "### Convert Text To Words"
      ]
    },
    {
      "cell_type": "code",
      "execution_count": 89,
      "metadata": {
        "id": "N3InIN_JjEBu"
      },
      "outputs": [],
      "source": [
        "#convert this word to vecter\n",
        "from sklearn.feature_extraction.text import CountVectorizer\n",
        "cv = CountVectorizer(max_features=5000, stop_words='english')"
      ]
    },
    {
      "cell_type": "code",
      "execution_count": 90,
      "metadata": {
        "id": "wUpujoR0jI6h"
      },
      "outputs": [],
      "source": [
        "#Use fit trainfom function\n",
        "vectors= cv.fit_transform(new_df['tags']).toarray()"
      ]
    },
    {
      "cell_type": "code",
      "execution_count": 91,
      "metadata": {
        "id": "hOntHmh1jdF5"
      },
      "outputs": [
        {
          "data": {
            "text/plain": [
              "array([[0, 0, 0, ..., 0, 0, 0],\n",
              "       [0, 0, 0, ..., 0, 0, 0],\n",
              "       [0, 0, 0, ..., 0, 0, 0],\n",
              "       ...,\n",
              "       [0, 0, 0, ..., 0, 0, 0],\n",
              "       [0, 0, 0, ..., 0, 0, 0],\n",
              "       [0, 0, 0, ..., 0, 0, 0]], dtype=int64)"
            ]
          },
          "execution_count": 91,
          "metadata": {},
          "output_type": "execute_result"
        }
      ],
      "source": [
        "vectors"
      ]
    },
    {
      "cell_type": "markdown",
      "metadata": {
        "id": "51mlse2T4MjK"
      },
      "source": [
        "#### apply cosin_similarity  Function "
      ]
    },
    {
      "cell_type": "code",
      "execution_count": 92,
      "metadata": {
        "id": "_Sf4zqQmklhc"
      },
      "outputs": [],
      "source": [
        "#calculate  the cosin_distance_ with fisrt to list move\n",
        "from sklearn.metrics.pairwise import cosine_similarity\n",
        "simillarity = cosine_similarity(vectors)"
      ]
    },
    {
      "cell_type": "code",
      "execution_count": 93,
      "metadata": {
        "id": "jjfiKO--laIb"
      },
      "outputs": [
        {
          "data": {
            "text/plain": [
              "array([1.        , 0.08980265, 0.08838835, ..., 0.04761905, 0.02993422,\n",
              "       0.        ])"
            ]
          },
          "execution_count": 93,
          "metadata": {},
          "output_type": "execute_result"
        }
      ],
      "source": [
        "simillarity[0]"
      ]
    },
    {
      "cell_type": "code",
      "execution_count": 94,
      "metadata": {
        "id": "Q9A1Qik4mETD"
      },
      "outputs": [],
      "source": [
        "#create a Recemnder Function\n",
        "def recommend(movie):\n",
        "    movie_index = new_df[new_df['title'] == movie].index[0]\n",
        "    distances = simillarity[movie_index]\n",
        "    movies_list = sorted(list(enumerate(distances)), reverse=True, key=lambda x: x[1])[1:6]\n",
        "    for i in movies_list:\n",
        "        print(new_df.iloc[i[0]].title)"
      ]
    },
    {
      "cell_type": "code",
      "execution_count": null,
      "metadata": {},
      "outputs": [],
      "source": []
    },
    {
      "cell_type": "code",
      "execution_count": 95,
      "metadata": {
        "id": "zBerKTaYp81S"
      },
      "outputs": [
        {
          "name": "stdout",
          "output_type": "stream",
          "text": [
            "Quantum of Solace\n",
            "Never Say Never Again\n",
            "Skyfall\n",
            "From Russia with Love\n",
            "Thunderball\n"
          ]
        }
      ],
      "source": [
        "recommend('Spectre')"
      ]
    }
  ],
  "metadata": {
    "colab": {
      "include_colab_link": true,
      "private_outputs": true,
      "provenance": [],
      "toc_visible": true
    },
    "kernelspec": {
      "display_name": "Python 3",
      "name": "python3"
    },
    "language_info": {
      "codemirror_mode": {
        "name": "ipython",
        "version": 3
      },
      "file_extension": ".py",
      "mimetype": "text/x-python",
      "name": "python",
      "nbconvert_exporter": "python",
      "pygments_lexer": "ipython3",
      "version": "3.9.0"
    }
  },
  "nbformat": 4,
  "nbformat_minor": 0
}
